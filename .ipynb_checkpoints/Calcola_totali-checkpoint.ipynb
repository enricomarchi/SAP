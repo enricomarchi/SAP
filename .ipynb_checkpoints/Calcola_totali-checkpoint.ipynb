{
 "cells": [
  {
   "cell_type": "code",
   "execution_count": 1,
   "id": "ac1473fa",
   "metadata": {},
   "outputs": [],
   "source": [
    "import pandas as pd\n",
    "pd.set_option(\"display.max_columns\", None)\n",
    "df = pd.read_excel(\"Perizia.xlsx\")\n",
    "tariffe = pd.read_parquet(\"Tariffe.parquet\")\n",
    "df_tot = df.merge(tariffe[[\"Numero_S_VdT\", \"ed_2023\"]], left_on=\"VDT\", right_on=\"Numero_S_VdT\", how=\"left\").drop(\"Numero_S_VdT\", axis=1)\n",
    "df_tot[\"Pr_tot\"] = df_tot[\"Quantità\"] * df_tot[\"ed_2023\"]\n",
    "df_lavori = df_tot[~df_tot['VDT'].str.startswith(\"OS\")]\n",
    "df_os = df_tot[df_tot['VDT'].str.startswith(\"OS\")]"
   ]
  },
  {
   "cell_type": "code",
   "execution_count": 28,
   "id": "73e5285c",
   "metadata": {},
   "outputs": [],
   "source": [
    "ribasso = 35.547 \n",
    "\n",
    "importo_tot_lavori = round(df_lavori[\"Pr_tot\"].sum(), 2)\n",
    "importo_tot_os = round(df_os[\"Pr_tot\"].sum(), 2)\n",
    "importo_ribasso = round(importo_tot_lavori * (ribasso/100), 2)\n",
    "importo_netto_lavori = importo_tot_lavori - importo_ribasso\n",
    "importo_netto_tot = importo_netto_lavori + importo_tot_os"
   ]
  },
  {
   "cell_type": "code",
   "execution_count": 39,
   "id": "db13b53a",
   "metadata": {},
   "outputs": [
    {
     "name": "stdout",
     "output_type": "stream",
     "text": [
      "Importo lordo lavori                =      309.083,68\n",
      "Importo oneri sicurezza             =        3.152,49\n",
      "Importo ribasso del 35,547 %        =      109.869,98\n",
      "Importo netto solo lavori           =      199.213,70\n",
      "\u001b[1m\u001b[43mImporto totale al netto del ribasso =      202.366,19\u001b[0m\n",
      "\n"
     ]
    }
   ],
   "source": [
    "import locale\n",
    "locale.setlocale(locale.LC_ALL, 'it_IT.utf8')\n",
    "f_ribasso = locale.format_string(\"%.3f\", ribasso, grouping=True)\n",
    "f_importo_tot_lavori = locale.format_string(\"%.2f\", importo_tot_lavori, grouping=True)\n",
    "f_importo_tot_os = locale.format_string(\"%.2f\", importo_tot_os, grouping=True)\n",
    "f_importo_ribasso = locale.format_string(\"%.2f\", importo_ribasso, grouping=True)\n",
    "f_importo_netto_lavori = locale.format_string(\"%.2f\", importo_netto_lavori, grouping=True)\n",
    "f_importo_netto_tot = locale.format_string(\"%.2f\", importo_netto_tot, grouping=True)\n",
    "allineamento = 15\n",
    "print(f\"Importo lordo lavori                = {f_importo_tot_lavori.rjust(allineamento)}\\n\"\n",
    "      f\"Importo oneri sicurezza             = {f_importo_tot_os.rjust(allineamento)}\\n\"\n",
    "      f\"Importo ribasso del {f_ribasso} %        = {f_importo_ribasso.rjust(allineamento)}\\n\"\n",
    "      f\"Importo netto solo lavori           = {f_importo_netto_lavori.rjust(allineamento)}\\n\"\n",
    "      f\"\\033[1m\\033[43mImporto totale al netto del ribasso = {f_importo_netto_tot.rjust(allineamento)}\\033[0m\\n\"    \n",
    "     )"
   ]
  },
  {
   "cell_type": "code",
   "execution_count": null,
   "id": "b90ee3ff",
   "metadata": {},
   "outputs": [],
   "source": []
  }
 ],
 "metadata": {
  "kernelspec": {
   "display_name": "Python 3 (ipykernel)",
   "language": "python",
   "name": "python3"
  },
  "language_info": {
   "codemirror_mode": {
    "name": "ipython",
    "version": 3
   },
   "file_extension": ".py",
   "mimetype": "text/x-python",
   "name": "python",
   "nbconvert_exporter": "python",
   "pygments_lexer": "ipython3",
   "version": "3.11.3"
  }
 },
 "nbformat": 4,
 "nbformat_minor": 5
}
