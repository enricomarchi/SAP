{
 "cells": [
  {
   "cell_type": "code",
   "execution_count": 1,
   "id": "726990a2",
   "metadata": {},
   "outputs": [],
   "source": [
    "import pandas as pd\n",
    "pd.set_option(\"display.max_columns\", None)\n",
    "df = pd.read_excel(\"DB_tariffe_2023.xlsx\", sheet_name=\"DB_2023\")\n",
    "df = df.rename(columns={\n",
    "    \"Descrizione Estesa per Voce 2023\": \"Descrizione Estesa per Voce\",\n",
    "    \"Titolo 2023\": \"Titolo\",\n",
    "    \"Testo esteso 2023\": \"Testo esteso\",\n",
    "    \"1992 / 1993\": \"1992\",\n",
    "    \"2022\\n(SG=13,5%)\": \"2022\",\n",
    "    \"2022_EC\\n(SG=13,5%)\": \"2022_EC\",\n",
    "    \"2022_04_08\\n(SG=13,5%)\": \"2022_04\",\n",
    "    \"2022_05 \\n(SG=13,5%)\": \"2022_05\",\n",
    "    \"2022_11_EC\\n(SG=13,5%)\": \"2022_11\",\n",
    "    \"2023\\n(SG=15%)\": \"2023\",\n",
    "    \"%MO 2022_04_08\": \"%MO 2022_04\",\n",
    "    \"%MO 2022_11_EC\": \"%MO 2022_11\"\n",
    "    })\n",
    "df.columns = [str(col).replace('%', 'perc_') for col in df.columns]   \n",
    "df.columns = [str(col).replace(' ', '_') for col in df.columns]   \n",
    "df.columns = [str(col).replace('.', '_') for col in df.columns]   \n",
    "df.to_parquet(\"Tariffe.parquet\")"
   ]
  },
  {
   "cell_type": "code",
   "execution_count": 2,
   "id": "95571531",
   "metadata": {
    "scrolled": true
   },
   "outputs": [
    {
     "name": "stdout",
     "output_type": "stream",
     "text": [
      "<class 'pandas.core.frame.DataFrame'>\n",
      "RangeIndex: 41618 entries, 0 to 41617\n",
      "Data columns (total 49 columns):\n",
      " #   Column                         Non-Null Count  Dtype  \n",
      "---  ------                         --------------  -----  \n",
      " 0   Tariffa                        41618 non-null  object \n",
      " 1   Gruppo                         41618 non-null  object \n",
      " 2   Descrizione_Estesa_per_Gruppo  41565 non-null  object \n",
      " 3   Numero_VdT                     41618 non-null  object \n",
      " 4   Descrizione_Estesa_per_Voce    41527 non-null  object \n",
      " 5   Numero_S_VdT                   41618 non-null  object \n",
      " 6   Descrizione                    41618 non-null  object \n",
      " 7   Titolo                         41428 non-null  object \n",
      " 8   Testo_esteso                   41428 non-null  object \n",
      " 9   Stato                          41382 non-null  object \n",
      " 10  UdM                            41618 non-null  object \n",
      " 11  Applicazione                   41073 non-null  object \n",
      " 12  1992                           14476 non-null  float64\n",
      " 13  2008                           19793 non-null  float64\n",
      " 14  2009                           21517 non-null  float64\n",
      " 15  2010                           21330 non-null  float64\n",
      " 16  2011                           15910 non-null  float64\n",
      " 17  2012                           20073 non-null  float64\n",
      " 18  2013                           20032 non-null  float64\n",
      " 19  2014                           20525 non-null  float64\n",
      " 20  2015                           20867 non-null  float64\n",
      " 21  2016                           20995 non-null  float64\n",
      " 22  2017                           21783 non-null  float64\n",
      " 23  2018                           23464 non-null  float64\n",
      " 24  2019                           23251 non-null  float64\n",
      " 25  2020                           22841 non-null  float64\n",
      " 26  2021                           22972 non-null  float64\n",
      " 27  2022                           23136 non-null  float64\n",
      " 28  2022_EC                        23136 non-null  float64\n",
      " 29  2022_04                        23136 non-null  float64\n",
      " 30  2022_05                        23139 non-null  float64\n",
      " 31  2022_11                        23180 non-null  float64\n",
      " 32  2023                           23287 non-null  float64\n",
      " 33  perc_MO_2018                   23464 non-null  float64\n",
      " 34  perc_MO_2019                   23251 non-null  float64\n",
      " 35  perc_MO_2020                   22841 non-null  float64\n",
      " 36  perc_MO_2021                   22972 non-null  float64\n",
      " 37  perc_MO_2022                   23136 non-null  float64\n",
      " 38  perc_MO_2022_EC                23136 non-null  float64\n",
      " 39  perc_MO_2022_04                23136 non-null  float64\n",
      " 40  perc_MO_2022_05                23139 non-null  float64\n",
      " 41  perc_MO_2022_11                23180 non-null  float64\n",
      " 42  perc_MO_2023                   23287 non-null  float64\n",
      " 43  EAN11/UAN_2022                 22089 non-null  object \n",
      " 44  cella_di_controllo             41618 non-null  bool   \n",
      " 45  inserimento_                   250 non-null    object \n",
      " 46  eliminazioni                   143 non-null    object \n",
      " 47  var_prezzo                     21769 non-null  object \n",
      " 48  perc_var                       23037 non-null  float64\n",
      "dtypes: bool(1), float64(32), object(16)\n",
      "memory usage: 15.3+ MB\n"
     ]
    }
   ],
   "source": [
    "df.info()"
   ]
  },
  {
   "cell_type": "code",
   "execution_count": 3,
   "id": "f82ea947",
   "metadata": {},
   "outputs": [],
   "source": [
    "df = pd.read_excel(\"DB_tariffe_2023.xlsx\", sheet_name=\"MaCeP_2023\")\n",
    "df = df.rename(columns={\n",
    "    \"2022 (SG=13,5%)\": \"2022\",\n",
    "    \"2022_04_08 (SG=13,5%)\": \"2022_04\",\n",
    "    \"2022_05 (SG=13,5%)\": \"2022_05\",\n",
    "    \"2023\\n(K=10% SG=15%)\": \"2023\",\n",
    "    })\n",
    "df.columns = [str(col).replace('%', 'perc_') for col in df.columns]   \n",
    "df.columns = [str(col).replace(' ', '_') for col in df.columns]   \n",
    "df.columns = [str(col).replace('.', '_') for col in df.columns]   \n",
    "df.to_parquet(\"Macep.parquet\")"
   ]
  },
  {
   "cell_type": "code",
   "execution_count": 4,
   "id": "50aef5fd",
   "metadata": {},
   "outputs": [
    {
     "name": "stdout",
     "output_type": "stream",
     "text": [
      "<class 'pandas.core.frame.DataFrame'>\n",
      "RangeIndex: 24860 entries, 0 to 24859\n",
      "Data columns (total 18 columns):\n",
      " #   Column              Non-Null Count  Dtype  \n",
      "---  ------              --------------  -----  \n",
      " 0   Codice_Materiale    24860 non-null  object \n",
      " 1   Descrizione_        24858 non-null  object \n",
      " 2   UM                  24860 non-null  object \n",
      " 3   2016                17760 non-null  float64\n",
      " 4   2017                7553 non-null   float64\n",
      " 5   2018                10956 non-null  float64\n",
      " 6   2019                11173 non-null  float64\n",
      " 7   2020                11113 non-null  float64\n",
      " 8   2021                18917 non-null  float64\n",
      " 9   2022                18985 non-null  float64\n",
      " 10  2022_04             18986 non-null  float64\n",
      " 11  2022_05             18986 non-null  float64\n",
      " 12  2023                17970 non-null  float64\n",
      " 13  Cella_di_controllo  24860 non-null  bool   \n",
      " 14  Inserimento_        141 non-null    object \n",
      " 15  Eliminazioni        1157 non-null   object \n",
      " 16  Var_prezzo          17828 non-null  object \n",
      " 17  perc_var            17829 non-null  float64\n",
      "dtypes: bool(1), float64(11), object(6)\n",
      "memory usage: 3.2+ MB\n"
     ]
    }
   ],
   "source": [
    "df.info()"
   ]
  },
  {
   "cell_type": "code",
   "execution_count": null,
   "id": "b5e9bf7d",
   "metadata": {},
   "outputs": [],
   "source": []
  }
 ],
 "metadata": {
  "kernelspec": {
   "display_name": "Python 3 (ipykernel)",
   "language": "python",
   "name": "python3"
  },
  "language_info": {
   "codemirror_mode": {
    "name": "ipython",
    "version": 3
   },
   "file_extension": ".py",
   "mimetype": "text/x-python",
   "name": "python",
   "nbconvert_exporter": "python",
   "pygments_lexer": "ipython3",
   "version": "3.11.3"
  }
 },
 "nbformat": 4,
 "nbformat_minor": 5
}
