{
 "cells": [
  {
   "cell_type": "code",
   "execution_count": 1,
   "id": "2b391454",
   "metadata": {
    "scrolled": false
   },
   "outputs": [
    {
     "name": "stdout",
     "output_type": "stream",
     "text": [
      "VDT n.16 di 35 La VDT 814/2700 edizione 2022_05 non è presente in web sal.\n",
      "VDT n.21 di 35 La VDT 912/8960 edizione 2022_05 non è presente in web sal.\n",
      "VDT n.22 di 35 La VDT 912/8970 edizione 2022_05 non è presente in web sal.\n",
      "VDT n.35 di 35 premere invio per terminare\n",
      "fine\n"
     ]
    }
   ],
   "source": [
    "import websap\n",
    "\n",
    "sap = websap.WebSAP(\"932197\", \".Gioia4444\")\n",
    "\n",
    "sap.sal(oda=\"5031009714\", file_excel=\"SAL.xlsx\")\n",
    "#sap.perizia(\"100144645\", \"Perizia.xlsx\")\n",
    "\n",
    "i = input(\"premere invio per terminare\")\n",
    "print(\"fine\")\n",
    "# prova di modifica per github"
   ]
  }
 ],
 "metadata": {
  "kernelspec": {
   "display_name": "Python 3 (ipykernel)",
   "language": "python",
   "name": "python3"
  },
  "language_info": {
   "codemirror_mode": {
    "name": "ipython",
    "version": 3
   },
   "file_extension": ".py",
   "mimetype": "text/x-python",
   "name": "python",
   "nbconvert_exporter": "python",
   "pygments_lexer": "ipython3",
   "version": "3.11.3"
  },
  "vp": {
   "vp_config_version": "1.0.0",
   "vp_menu_width": 273,
   "vp_note_display": false,
   "vp_note_width": 0,
   "vp_position": {
    "width": 278
   },
   "vp_section_display": false,
   "vp_signature": "VisualPython"
  }
 },
 "nbformat": 4,
 "nbformat_minor": 5
}
