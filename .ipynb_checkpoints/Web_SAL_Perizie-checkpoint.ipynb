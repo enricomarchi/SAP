{
 "cells": [
  {
   "cell_type": "code",
   "execution_count": 4,
   "id": "2b391454",
   "metadata": {
    "scrolled": false
   },
   "outputs": [
    {
     "ename": "ElementClickInterceptedException",
     "evalue": "Message: element click intercepted: Element <div draggable=\"false\" id=\"WD019F\" ct=\"B\" lsdata=\"{0:'GESTIONE\\x20RISORSE',4:'Procedi\\x20con\\x20la\\x20Painificazione\\x20della\\x20Risorsa',10:true,12:'\\x2fsap\\x2fpublic\\x2fbc\\x2fur\\x2fnw5\\x2fthemes\\x2f\\x257ecache\\x2d20210129131119\\x2fBase\\x2fbaseLib\\x2fsap_corbu\\x2fimg\\x2flibs\\x2fIcon\\x2fMoveRight.png\\x3fversion\\x3dUR.ls\\x3a10.30.7.331007.0',17:false}\" lsevents=\"{Press:[{ResponseData:'delta',ClientAction:'submit'},{}]}\" title=\"Procedi con la Painificazione della Risorsa\" tabindex=\"0\" ti=\"0\" class=\"lsButton lsButton--base lsTbarBtnStd urInlineMetricTop urNoUserSelect urBtnRadius  lsButton--active  lsButton--focusable  lsButton--up lsButton--design-standard \">...</div> is not clickable at point (913, 223). Other element would receive the click: <div id=\"WD0190-hiitem-1\" class=\"lsListbox__value lsListbox__value--history lsListbox__value--deletable\" data-itemid=\"WD0190-hiitem-1\" ct=\"LIB_I\" lsdata=\"{&quot;1&quot;:&quot;&quot;,&quot;3&quot;:true,&quot;4&quot;:&quot;&quot;}\" data-itemindex=\"1\" data-itemkey=\"@002_11\" data-itemicontooltip=\"\" data-itemvalue1=\"11\"></div>\n  (Session info: chrome=118.0.5993.70)\nStacktrace:\n\tGetHandleVerifier [0x00007FF756EE8EF2+54786]\n\t(No symbol) [0x00007FF756E55612]\n\t(No symbol) [0x00007FF756D0A64B]\n\t(No symbol) [0x00007FF756D51A6B]\n\t(No symbol) [0x00007FF756D4FE39]\n\t(No symbol) [0x00007FF756D4DC08]\n\t(No symbol) [0x00007FF756D4CCC3]\n\t(No symbol) [0x00007FF756D429CF]\n\t(No symbol) [0x00007FF756D6BE6A]\n\t(No symbol) [0x00007FF756D422E6]\n\t(No symbol) [0x00007FF756D6C080]\n\t(No symbol) [0x00007FF756D84D02]\n\t(No symbol) [0x00007FF756D6BC43]\n\t(No symbol) [0x00007FF756D40941]\n\t(No symbol) [0x00007FF756D41B84]\n\tGetHandleVerifier [0x00007FF757237F52+3524194]\n\tGetHandleVerifier [0x00007FF75728D800+3874576]\n\tGetHandleVerifier [0x00007FF757285D7F+3843215]\n\tGetHandleVerifier [0x00007FF756F85086+694166]\n\t(No symbol) [0x00007FF756E60A88]\n\t(No symbol) [0x00007FF756E5CA94]\n\t(No symbol) [0x00007FF756E5CBC2]\n\t(No symbol) [0x00007FF756E4CC83]\n\tBaseThreadInitThunk [0x00007FFEBB337344+20]\n\tRtlUserThreadStart [0x00007FFEBB6026B1+33]\n",
     "output_type": "error",
     "traceback": [
      "\u001b[1;31m---------------------------------------------------------------------------\u001b[0m",
      "\u001b[1;31mElementClickInterceptedException\u001b[0m          Traceback (most recent call last)",
      "Cell \u001b[1;32mIn[4], line 6\u001b[0m\n\u001b[0;32m      3\u001b[0m sap \u001b[38;5;241m=\u001b[39m websap\u001b[38;5;241m.\u001b[39mWebSAP(\u001b[38;5;124m\"\u001b[39m\u001b[38;5;124m932197\u001b[39m\u001b[38;5;124m\"\u001b[39m, \u001b[38;5;124m\"\u001b[39m\u001b[38;5;124m.Gioia5555\u001b[39m\u001b[38;5;124m\"\u001b[39m)\n\u001b[0;32m      5\u001b[0m \u001b[38;5;66;03m#sap.sal(oda=\"5042121189\", file_excel=\"SAL.xlsx\")\u001b[39;00m\n\u001b[1;32m----> 6\u001b[0m sap\u001b[38;5;241m.\u001b[39mperizia(network\u001b[38;5;241m=\u001b[39m\u001b[38;5;124m\"\u001b[39m\u001b[38;5;124m100159079\u001b[39m\u001b[38;5;124m\"\u001b[39m, file_excel\u001b[38;5;241m=\u001b[39m\u001b[38;5;124m\"\u001b[39m\u001b[38;5;124mPerizia.xlsx\u001b[39m\u001b[38;5;124m\"\u001b[39m, nome_foglio\u001b[38;5;241m=\u001b[39m\u001b[38;5;124m\"\u001b[39m\u001b[38;5;124mVDT\u001b[39m\u001b[38;5;124m\"\u001b[39m)\n\u001b[0;32m      8\u001b[0m i \u001b[38;5;241m=\u001b[39m \u001b[38;5;28minput\u001b[39m(\u001b[38;5;124m\"\u001b[39m\u001b[38;5;124mpremere invio per terminare\u001b[39m\u001b[38;5;124m\"\u001b[39m)\n\u001b[0;32m      9\u001b[0m \u001b[38;5;28mprint\u001b[39m(\u001b[38;5;124m\"\u001b[39m\u001b[38;5;124mfine\u001b[39m\u001b[38;5;124m\"\u001b[39m)\n",
      "File \u001b[1;32m~\\Documents\\dati_locali\\git-hub\\SAP\\websap.py:399\u001b[0m, in \u001b[0;36mWebSAP.perizia\u001b[1;34m(self, network, file_excel, nome_foglio)\u001b[0m\n\u001b[0;32m    397\u001b[0m \u001b[38;5;28mself\u001b[39m\u001b[38;5;241m.\u001b[39mtesto(\u001b[38;5;28mstr\u001b[39m(po), \u001b[38;5;124m'\u001b[39m\u001b[38;5;124m//span[starts-with(text(), \u001b[39m\u001b[38;5;124m\"\u001b[39m\u001b[38;5;124mPARTE\u001b[39m\u001b[38;5;124m\"\u001b[39m\u001b[38;5;124m)]/../../../following-sibling::td//input\u001b[39m\u001b[38;5;124m'\u001b[39m)   \u001b[38;5;66;03m# Parte d'opera\u001b[39;00m\n\u001b[0;32m    398\u001b[0m df_parte_opera \u001b[38;5;241m=\u001b[39m df_operazione[df_operazione[\u001b[38;5;124m\"\u001b[39m\u001b[38;5;124mPO\u001b[39m\u001b[38;5;124m\"\u001b[39m] \u001b[38;5;241m==\u001b[39m po]\n\u001b[1;32m--> 399\u001b[0m \u001b[38;5;28mself\u001b[39m\u001b[38;5;241m.\u001b[39mclick(\u001b[38;5;124m'\u001b[39m\u001b[38;5;124m//div[@title=\u001b[39m\u001b[38;5;124m\"\u001b[39m\u001b[38;5;124mProcedi con la Painificazione della Risorsa\u001b[39m\u001b[38;5;124m\"\u001b[39m\u001b[38;5;124m]\u001b[39m\u001b[38;5;124m'\u001b[39m)\n\u001b[0;32m    400\u001b[0m \u001b[38;5;28mself\u001b[39m\u001b[38;5;241m.\u001b[39mattesa_caricamento()\n\u001b[0;32m    402\u001b[0m \u001b[38;5;66;03m# Se compare un messaggio che un altro utente sta modificando questa VPR, seleziona di elaborare questa VPR\u001b[39;00m\n",
      "File \u001b[1;32m~\\Documents\\dati_locali\\git-hub\\SAP\\websap.py:126\u001b[0m, in \u001b[0;36mWebSAP.click\u001b[1;34m(self, xpath)\u001b[0m\n\u001b[0;32m    120\u001b[0m \u001b[38;5;250m\u001b[39m\u001b[38;5;124;03m\"\"\"\u001b[39;00m\n\u001b[0;32m    121\u001b[0m \u001b[38;5;124;03mSimula un click del mouse sull'elemento puntato da xpath.\u001b[39;00m\n\u001b[0;32m    122\u001b[0m \u001b[38;5;124;03m:param xpath: xpath dell'elemento da cliccare\u001b[39;00m\n\u001b[0;32m    123\u001b[0m \u001b[38;5;124;03m:return: WebElement\u001b[39;00m\n\u001b[0;32m    124\u001b[0m \u001b[38;5;124;03m\"\"\"\u001b[39;00m\n\u001b[0;32m    125\u001b[0m elem \u001b[38;5;241m=\u001b[39m \u001b[38;5;28mself\u001b[39m\u001b[38;5;241m.\u001b[39melemento(xpath)\n\u001b[1;32m--> 126\u001b[0m elem\u001b[38;5;241m.\u001b[39mclick()\n\u001b[0;32m    127\u001b[0m time\u001b[38;5;241m.\u001b[39msleep(\u001b[38;5;241m1\u001b[39m)\n\u001b[0;32m    128\u001b[0m \u001b[38;5;28;01mreturn\u001b[39;00m elem\n",
      "File \u001b[1;32m~\\AppData\\Local\\anaconda3\\Lib\\site-packages\\selenium\\webdriver\\remote\\webelement.py:94\u001b[0m, in \u001b[0;36mWebElement.click\u001b[1;34m(self)\u001b[0m\n\u001b[0;32m     92\u001b[0m \u001b[38;5;28;01mdef\u001b[39;00m \u001b[38;5;21mclick\u001b[39m(\u001b[38;5;28mself\u001b[39m) \u001b[38;5;241m-\u001b[39m\u001b[38;5;241m>\u001b[39m \u001b[38;5;28;01mNone\u001b[39;00m:\n\u001b[0;32m     93\u001b[0m \u001b[38;5;250m    \u001b[39m\u001b[38;5;124;03m\"\"\"Clicks the element.\"\"\"\u001b[39;00m\n\u001b[1;32m---> 94\u001b[0m     \u001b[38;5;28mself\u001b[39m\u001b[38;5;241m.\u001b[39m_execute(Command\u001b[38;5;241m.\u001b[39mCLICK_ELEMENT)\n",
      "File \u001b[1;32m~\\AppData\\Local\\anaconda3\\Lib\\site-packages\\selenium\\webdriver\\remote\\webelement.py:395\u001b[0m, in \u001b[0;36mWebElement._execute\u001b[1;34m(self, command, params)\u001b[0m\n\u001b[0;32m    393\u001b[0m     params \u001b[38;5;241m=\u001b[39m {}\n\u001b[0;32m    394\u001b[0m params[\u001b[38;5;124m\"\u001b[39m\u001b[38;5;124mid\u001b[39m\u001b[38;5;124m\"\u001b[39m] \u001b[38;5;241m=\u001b[39m \u001b[38;5;28mself\u001b[39m\u001b[38;5;241m.\u001b[39m_id\n\u001b[1;32m--> 395\u001b[0m \u001b[38;5;28;01mreturn\u001b[39;00m \u001b[38;5;28mself\u001b[39m\u001b[38;5;241m.\u001b[39m_parent\u001b[38;5;241m.\u001b[39mexecute(command, params)\n",
      "File \u001b[1;32m~\\AppData\\Local\\anaconda3\\Lib\\site-packages\\selenium\\webdriver\\remote\\webdriver.py:345\u001b[0m, in \u001b[0;36mWebDriver.execute\u001b[1;34m(self, driver_command, params)\u001b[0m\n\u001b[0;32m    343\u001b[0m response \u001b[38;5;241m=\u001b[39m \u001b[38;5;28mself\u001b[39m\u001b[38;5;241m.\u001b[39mcommand_executor\u001b[38;5;241m.\u001b[39mexecute(driver_command, params)\n\u001b[0;32m    344\u001b[0m \u001b[38;5;28;01mif\u001b[39;00m response:\n\u001b[1;32m--> 345\u001b[0m     \u001b[38;5;28mself\u001b[39m\u001b[38;5;241m.\u001b[39merror_handler\u001b[38;5;241m.\u001b[39mcheck_response(response)\n\u001b[0;32m    346\u001b[0m     response[\u001b[38;5;124m\"\u001b[39m\u001b[38;5;124mvalue\u001b[39m\u001b[38;5;124m\"\u001b[39m] \u001b[38;5;241m=\u001b[39m \u001b[38;5;28mself\u001b[39m\u001b[38;5;241m.\u001b[39m_unwrap_value(response\u001b[38;5;241m.\u001b[39mget(\u001b[38;5;124m\"\u001b[39m\u001b[38;5;124mvalue\u001b[39m\u001b[38;5;124m\"\u001b[39m, \u001b[38;5;28;01mNone\u001b[39;00m))\n\u001b[0;32m    347\u001b[0m     \u001b[38;5;28;01mreturn\u001b[39;00m response\n",
      "File \u001b[1;32m~\\AppData\\Local\\anaconda3\\Lib\\site-packages\\selenium\\webdriver\\remote\\errorhandler.py:229\u001b[0m, in \u001b[0;36mErrorHandler.check_response\u001b[1;34m(self, response)\u001b[0m\n\u001b[0;32m    227\u001b[0m         alert_text \u001b[38;5;241m=\u001b[39m value[\u001b[38;5;124m\"\u001b[39m\u001b[38;5;124malert\u001b[39m\u001b[38;5;124m\"\u001b[39m]\u001b[38;5;241m.\u001b[39mget(\u001b[38;5;124m\"\u001b[39m\u001b[38;5;124mtext\u001b[39m\u001b[38;5;124m\"\u001b[39m)\n\u001b[0;32m    228\u001b[0m     \u001b[38;5;28;01mraise\u001b[39;00m exception_class(message, screen, stacktrace, alert_text)  \u001b[38;5;66;03m# type: ignore[call-arg]  # mypy is not smart enough here\u001b[39;00m\n\u001b[1;32m--> 229\u001b[0m \u001b[38;5;28;01mraise\u001b[39;00m exception_class(message, screen, stacktrace)\n",
      "\u001b[1;31mElementClickInterceptedException\u001b[0m: Message: element click intercepted: Element <div draggable=\"false\" id=\"WD019F\" ct=\"B\" lsdata=\"{0:'GESTIONE\\x20RISORSE',4:'Procedi\\x20con\\x20la\\x20Painificazione\\x20della\\x20Risorsa',10:true,12:'\\x2fsap\\x2fpublic\\x2fbc\\x2fur\\x2fnw5\\x2fthemes\\x2f\\x257ecache\\x2d20210129131119\\x2fBase\\x2fbaseLib\\x2fsap_corbu\\x2fimg\\x2flibs\\x2fIcon\\x2fMoveRight.png\\x3fversion\\x3dUR.ls\\x3a10.30.7.331007.0',17:false}\" lsevents=\"{Press:[{ResponseData:'delta',ClientAction:'submit'},{}]}\" title=\"Procedi con la Painificazione della Risorsa\" tabindex=\"0\" ti=\"0\" class=\"lsButton lsButton--base lsTbarBtnStd urInlineMetricTop urNoUserSelect urBtnRadius  lsButton--active  lsButton--focusable  lsButton--up lsButton--design-standard \">...</div> is not clickable at point (913, 223). Other element would receive the click: <div id=\"WD0190-hiitem-1\" class=\"lsListbox__value lsListbox__value--history lsListbox__value--deletable\" data-itemid=\"WD0190-hiitem-1\" ct=\"LIB_I\" lsdata=\"{&quot;1&quot;:&quot;&quot;,&quot;3&quot;:true,&quot;4&quot;:&quot;&quot;}\" data-itemindex=\"1\" data-itemkey=\"@002_11\" data-itemicontooltip=\"\" data-itemvalue1=\"11\"></div>\n  (Session info: chrome=118.0.5993.70)\nStacktrace:\n\tGetHandleVerifier [0x00007FF756EE8EF2+54786]\n\t(No symbol) [0x00007FF756E55612]\n\t(No symbol) [0x00007FF756D0A64B]\n\t(No symbol) [0x00007FF756D51A6B]\n\t(No symbol) [0x00007FF756D4FE39]\n\t(No symbol) [0x00007FF756D4DC08]\n\t(No symbol) [0x00007FF756D4CCC3]\n\t(No symbol) [0x00007FF756D429CF]\n\t(No symbol) [0x00007FF756D6BE6A]\n\t(No symbol) [0x00007FF756D422E6]\n\t(No symbol) [0x00007FF756D6C080]\n\t(No symbol) [0x00007FF756D84D02]\n\t(No symbol) [0x00007FF756D6BC43]\n\t(No symbol) [0x00007FF756D40941]\n\t(No symbol) [0x00007FF756D41B84]\n\tGetHandleVerifier [0x00007FF757237F52+3524194]\n\tGetHandleVerifier [0x00007FF75728D800+3874576]\n\tGetHandleVerifier [0x00007FF757285D7F+3843215]\n\tGetHandleVerifier [0x00007FF756F85086+694166]\n\t(No symbol) [0x00007FF756E60A88]\n\t(No symbol) [0x00007FF756E5CA94]\n\t(No symbol) [0x00007FF756E5CBC2]\n\t(No symbol) [0x00007FF756E4CC83]\n\tBaseThreadInitThunk [0x00007FFEBB337344+20]\n\tRtlUserThreadStart [0x00007FFEBB6026B1+33]\n"
     ]
    }
   ],
   "source": [
    "import websap\n",
    "\n",
    "sap = websap.WebSAP(\"932197\", \".Gioia5555\")\n",
    "\n",
    "#sap.sal(oda=\"5042121189\", file_excel=\"SAL.xlsx\")\n",
    "sap.perizia(network=\"100159079\", file_excel=\"Perizia.xlsx\", nome_foglio=\"VDT\")\n",
    "\n",
    "i = input(\"premere invio per terminare\")\n",
    "print(\"fine\")\n"
   ]
  },
  {
   "cell_type": "code",
   "execution_count": null,
   "id": "555011a6",
   "metadata": {},
   "outputs": [],
   "source": []
  }
 ],
 "metadata": {
  "kernelspec": {
   "display_name": "Python 3 (ipykernel)",
   "language": "python",
   "name": "python3"
  },
  "language_info": {
   "codemirror_mode": {
    "name": "ipython",
    "version": 3
   },
   "file_extension": ".py",
   "mimetype": "text/x-python",
   "name": "python",
   "nbconvert_exporter": "python",
   "pygments_lexer": "ipython3",
   "version": "3.11.3"
  },
  "vp": {
   "vp_config_version": "1.0.0",
   "vp_menu_width": 273,
   "vp_note_display": false,
   "vp_note_width": 0,
   "vp_position": {
    "width": 278
   },
   "vp_section_display": false,
   "vp_signature": "VisualPython"
  }
 },
 "nbformat": 4,
 "nbformat_minor": 5
}
