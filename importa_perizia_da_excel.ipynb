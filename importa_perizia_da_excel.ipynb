{
 "cells": [
  {
   "cell_type": "code",
   "execution_count": 1,
   "id": "726990a2",
   "metadata": {},
   "outputs": [],
   "source": [
    "import pandas as pd\n",
    "import websap\n",
    "\n",
    "pd.set_option(\"display.max_columns\", None)\n",
    "\n",
    "file_excel = r\"C:\\Users\\enrico\\OneDrive - Gruppo Ferrovie Dello Stato\\Documenti\\LIC\\2_CONVENZIONE XX-2023 UNIFY CTA\\02_Perizie\\Costi una tantum servizi di sopravvivenza ed efficientamento telefonia Passanti CTA.xlsx\""
   ]
  },
  {
   "cell_type": "code",
   "execution_count": 2,
   "id": "0224e688",
   "metadata": {},
   "outputs": [
    {
     "name": "stdout",
     "output_type": "stream",
     "text": [
      "\n",
      "Cap.13\n",
      "Riga 34 di 34\n",
      "fine\n"
     ]
    }
   ],
   "source": [
    "map1 = websap.mapping_perizie(\n",
    "    nome_foglio='Cap.13',\n",
    "    riga_inizio=9,\n",
    "    riga_fine=34,\n",
    "    col_po='',\n",
    "    col_vdt='B',\n",
    "    col_descrizione_vdt='C',\n",
    "    col_quantità='E',\n",
    "    col_prezzo_unitario='G',\n",
    "    col_um='D',\n",
    "    col_descrizione_misura='',\n",
    "    operazione=20,\n",
    "    parte_opera='Unica'\n",
    ")\n",
    "\n",
    "\n",
    "df = websap.importa_perizia_da_excel(file_excel, '100164836-001-001', map1, append=False)\n",
    "print('\\nfine')"
   ]
  }
 ],
 "metadata": {
  "kernelspec": {
   "display_name": "Python 3 (ipykernel)",
   "language": "python",
   "name": "python3"
  },
  "language_info": {
   "codemirror_mode": {
    "name": "ipython",
    "version": 3
   },
   "file_extension": ".py",
   "mimetype": "text/x-python",
   "name": "python",
   "nbconvert_exporter": "python",
   "pygments_lexer": "ipython3",
   "version": "3.11.9"
  }
 },
 "nbformat": 4,
 "nbformat_minor": 5
}
