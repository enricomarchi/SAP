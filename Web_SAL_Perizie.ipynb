{
 "cells": [
  {
   "cell_type": "code",
   "execution_count": 9,
   "id": "2b391454",
   "metadata": {
    "scrolled": false
   },
   "outputs": [
    {
     "name": "stdout",
     "output_type": "stream",
     "text": [
      "VDT n.1 di 106 EI.AI.X.1113.A\n",
      "VDT n.2 di 106 EI.AI.X.1113.A\n",
      "VDT n.3 di 106 EI.AL.T.1 02.C\n",
      "VDT n.4 di 106 EI.AL.T.1 02.C\n",
      "VDT n.5 di 106 EI.AL.T.1 02.C\n",
      "VDT n.6 di 106 EI.AV.C.1102.A\n",
      "VDT n.7 di 106 EI.AV.C.1104.F\n",
      "VDT n.8 di 106 EI.AV.C.1113.G\n",
      "VDT n.9 di 106 EI.AV.C.2106.A\n",
      "VDT n.10 di 106 EI.AV.M.1 10.A\n",
      "VDT n.11 di 106 EI.CA.M.1 01.A\n",
      "VDT n.12 di 106 EI.CA.M.2 02.B\n",
      "VDT n.13 di 106 EI.CA.M.2 02.D\n",
      "VDT n.14 di 106 EI.CA.P.5 04.B\n",
      "VDT n.15 di 106 EI.CV.P.2100.A\n",
      "VDT n.16 di 106 EI.CV.P.5 10.A\n",
      "La VDT EI.CV.P.5 10.A edizione ed_2023 non è presente in web sal.\n",
      "VDT n.17 di 106 EI.QE.A.1 01.G\n",
      "VDT n.18 di 106 EI.QE.A.1 01.O\n"
     ]
    },
    {
     "ename": "AttributeError",
     "evalue": "'NoneType' object has no attribute 'click'",
     "output_type": "error",
     "traceback": [
      "\u001b[1;31m---------------------------------------------------------------------------\u001b[0m",
      "\u001b[1;31mAttributeError\u001b[0m                            Traceback (most recent call last)",
      "Cell \u001b[1;32mIn[9], line 5\u001b[0m\n\u001b[0;32m      1\u001b[0m \u001b[38;5;28;01mimport\u001b[39;00m \u001b[38;5;21;01mwebsap\u001b[39;00m\n\u001b[0;32m      3\u001b[0m sap \u001b[38;5;241m=\u001b[39m websap\u001b[38;5;241m.\u001b[39mWebSAP(\u001b[38;5;124m\"\u001b[39m\u001b[38;5;124m932197\u001b[39m\u001b[38;5;124m\"\u001b[39m, \u001b[38;5;124m\"\u001b[39m\u001b[38;5;124m.Gioia6666\u001b[39m\u001b[38;5;124m\"\u001b[39m)\n\u001b[1;32m----> 5\u001b[0m \u001b[43msap\u001b[49m\u001b[38;5;241;43m.\u001b[39;49m\u001b[43msal\u001b[49m\u001b[43m(\u001b[49m\u001b[43moda\u001b[49m\u001b[38;5;241;43m=\u001b[39;49m\u001b[38;5;124;43m\"\u001b[39;49m\u001b[38;5;124;43m5031012302\u001b[39;49m\u001b[38;5;124;43m\"\u001b[39;49m\u001b[43m,\u001b[49m\u001b[43m \u001b[49m\u001b[43mfile_excel\u001b[49m\u001b[38;5;241;43m=\u001b[39;49m\u001b[38;5;124;43m\"\u001b[39;49m\u001b[38;5;124;43mSAL.xlsx\u001b[39;49m\u001b[38;5;124;43m\"\u001b[39;49m\u001b[43m)\u001b[49m\n\u001b[0;32m      6\u001b[0m \u001b[38;5;66;03m#sap.perizia(network=\"100159079\", file_excel=\"Perizia.xlsx\", nome_foglio=\"VDT\")\u001b[39;00m\n\u001b[0;32m      8\u001b[0m i \u001b[38;5;241m=\u001b[39m \u001b[38;5;28minput\u001b[39m(\u001b[38;5;124m\"\u001b[39m\u001b[38;5;124mpremere invio per terminare\u001b[39m\u001b[38;5;124m\"\u001b[39m)\n",
      "File \u001b[1;32mc:\\Users\\enric\\Documents\\GitHub\\SAP\\websap.py:215\u001b[0m, in \u001b[0;36mWebSAP.sal\u001b[1;34m(self, oda, file_excel)\u001b[0m\n\u001b[0;32m    213\u001b[0m \u001b[38;5;28;01mtry\u001b[39;00m:\n\u001b[0;32m    214\u001b[0m     \u001b[38;5;28mprint\u001b[39m(\u001b[38;5;124mf\u001b[39m\u001b[38;5;124m\"\u001b[39m\u001b[38;5;130;01m\\r\u001b[39;00m\u001b[38;5;124mVDT n.\u001b[39m\u001b[38;5;132;01m{\u001b[39;00mi_vdt\u001b[38;5;132;01m}\u001b[39;00m\u001b[38;5;124m di \u001b[39m\u001b[38;5;132;01m{\u001b[39;00mtot_vdt\u001b[38;5;132;01m}\u001b[39;00m\u001b[38;5;124m\"\u001b[39m, end\u001b[38;5;241m=\u001b[39m\u001b[38;5;124m\"\u001b[39m\u001b[38;5;124m \u001b[39m\u001b[38;5;124m\"\u001b[39m, flush\u001b[38;5;241m=\u001b[39m\u001b[38;5;28;01mTrue\u001b[39;00m)\n\u001b[1;32m--> 215\u001b[0m     \u001b[38;5;28;43mself\u001b[39;49m\u001b[38;5;241;43m.\u001b[39;49m\u001b[43m__inserisci_vdt_sal\u001b[49m\u001b[43m(\u001b[49m\u001b[43mindex\u001b[49m\u001b[43m,\u001b[49m\u001b[43m \u001b[49m\u001b[43mrow\u001b[49m\u001b[43m)\u001b[49m\n\u001b[0;32m    216\u001b[0m     time\u001b[38;5;241m.\u001b[39msleep(\u001b[38;5;241m1\u001b[39m)\n\u001b[0;32m    217\u001b[0m     df\u001b[38;5;241m.\u001b[39mat[index, \u001b[38;5;124m\"\u001b[39m\u001b[38;5;124mInserita\u001b[39m\u001b[38;5;124m\"\u001b[39m] \u001b[38;5;241m=\u001b[39m \u001b[38;5;124m\"\u001b[39m\u001b[38;5;124mx\u001b[39m\u001b[38;5;124m\"\u001b[39m\n",
      "File \u001b[1;32mc:\\Users\\enric\\Documents\\GitHub\\SAP\\websap.py:247\u001b[0m, in \u001b[0;36mWebSAP.__inserisci_vdt_sal\u001b[1;34m(self, index, row)\u001b[0m\n\u001b[0;32m    245\u001b[0m time\u001b[38;5;241m.\u001b[39msleep(\u001b[38;5;241m1\u001b[39m)\n\u001b[0;32m    246\u001b[0m \u001b[38;5;28;01mif\u001b[39;00m \u001b[38;5;28mlen\u001b[39m(lista) \u001b[38;5;241m==\u001b[39m \u001b[38;5;241m0\u001b[39m:                                 \u001b[38;5;66;03m# Se non è stata già inserita la inserisce\u001b[39;00m\n\u001b[1;32m--> 247\u001b[0m     \u001b[38;5;28;43mself\u001b[39;49m\u001b[38;5;241;43m.\u001b[39;49m\u001b[43mclick\u001b[49m\u001b[43m(\u001b[49m\u001b[38;5;124;43m'\u001b[39;49m\u001b[38;5;124;43m//div[@title=\u001b[39;49m\u001b[38;5;124;43m\"\u001b[39;49m\u001b[38;5;124;43mSeleziona una nuova Voce di Tariffa\u001b[39;49m\u001b[38;5;124;43m\"\u001b[39;49m\u001b[38;5;124;43m]\u001b[39;49m\u001b[38;5;124;43m'\u001b[39;49m\u001b[43m)\u001b[49m\n\u001b[0;32m    248\u001b[0m     time\u001b[38;5;241m.\u001b[39msleep(\u001b[38;5;241m1\u001b[39m)\n\u001b[0;32m    249\u001b[0m     \u001b[38;5;28mself\u001b[39m\u001b[38;5;241m.\u001b[39mclick(\u001b[38;5;124m'\u001b[39m\u001b[38;5;124m//div[text()=\u001b[39m\u001b[38;5;124m\"\u001b[39m\u001b[38;5;124mContr.Catalogo\u001b[39m\u001b[38;5;124m\"\u001b[39m\u001b[38;5;124m]\u001b[39m\u001b[38;5;124m'\u001b[39m)\n",
      "File \u001b[1;32mc:\\Users\\enric\\Documents\\GitHub\\SAP\\websap.py:125\u001b[0m, in \u001b[0;36mWebSAP.click\u001b[1;34m(self, xpath)\u001b[0m\n\u001b[0;32m    119\u001b[0m \u001b[38;5;250m\u001b[39m\u001b[38;5;124;03m\"\"\"\u001b[39;00m\n\u001b[0;32m    120\u001b[0m \u001b[38;5;124;03mSimula un click del mouse sull'elemento puntato da xpath.\u001b[39;00m\n\u001b[0;32m    121\u001b[0m \u001b[38;5;124;03m:param xpath: xpath dell'elemento da cliccare\u001b[39;00m\n\u001b[0;32m    122\u001b[0m \u001b[38;5;124;03m:return: WebElement\u001b[39;00m\n\u001b[0;32m    123\u001b[0m \u001b[38;5;124;03m\"\"\"\u001b[39;00m\n\u001b[0;32m    124\u001b[0m elem \u001b[38;5;241m=\u001b[39m \u001b[38;5;28mself\u001b[39m\u001b[38;5;241m.\u001b[39melemento(xpath)\n\u001b[1;32m--> 125\u001b[0m \u001b[43melem\u001b[49m\u001b[38;5;241;43m.\u001b[39;49m\u001b[43mclick\u001b[49m()\n\u001b[0;32m    126\u001b[0m time\u001b[38;5;241m.\u001b[39msleep(\u001b[38;5;241m1\u001b[39m)\n\u001b[0;32m    127\u001b[0m \u001b[38;5;28;01mreturn\u001b[39;00m elem\n",
      "\u001b[1;31mAttributeError\u001b[0m: 'NoneType' object has no attribute 'click'"
     ]
    }
   ],
   "source": [
    "import websap\n",
    "\n",
    "sap = websap.WebSAP(\"932197\", \".Gioia6666\")\n",
    "\n",
    "sap.sal(oda=\"5031012302\", file_excel=\"SAL.xlsx\")\n",
    "#sap.perizia(network=\"100159079\", file_excel=\"Perizia.xlsx\", nome_foglio=\"VDT\")\n",
    "\n",
    "i = input(\"premere invio per terminare\")\n",
    "print(\"fine\")\n"
   ]
  },
  {
   "cell_type": "code",
   "execution_count": null,
   "id": "555011a6",
   "metadata": {},
   "outputs": [],
   "source": []
  }
 ],
 "metadata": {
  "kernelspec": {
   "display_name": "Python 3 (ipykernel)",
   "language": "python",
   "name": "python3"
  },
  "language_info": {
   "codemirror_mode": {
    "name": "ipython",
    "version": 3
   },
   "file_extension": ".py",
   "mimetype": "text/x-python",
   "name": "python",
   "nbconvert_exporter": "python",
   "pygments_lexer": "ipython3",
   "version": "3.12.0"
  },
  "vp": {
   "vp_config_version": "1.0.0",
   "vp_menu_width": 273,
   "vp_note_display": false,
   "vp_note_width": 0,
   "vp_position": {
    "width": 278
   },
   "vp_section_display": false,
   "vp_signature": "VisualPython"
  }
 },
 "nbformat": 4,
 "nbformat_minor": 5
}
