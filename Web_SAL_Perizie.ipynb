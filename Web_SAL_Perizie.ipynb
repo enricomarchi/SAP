{
 "cells": [
  {
   "cell_type": "code",
   "execution_count": 1,
   "id": "2b391454",
   "metadata": {
    "scrolled": false
   },
   "outputs": [
    {
     "name": "stdout",
     "output_type": "stream",
     "text": [
      "Proc. click: xpath = //div[@title=\"SAL\"], Tentavivo n.1 di 120 VDT n.1 di 8, VDT = OS.MC.A.0102.A, Q = 1.0, Descrizione = \n",
      "VDT n.2 di 8, VDT = OS.MC.A.0102.A, Q = 1.0, Descrizione = \n",
      "VDT n.3 di 8, VDT = OS.MC.A.0102.A, Q = 1.0, Descrizione = \n",
      "VDT n.4 di 8, VDT = OS.MC.A.0102.A, Q = 1.0, Descrizione = \n",
      "VDT n.5 di 8, VDT = 814/2720, Q = 30.0, Descrizione = MATERIALE INSTALLAZIONE\n",
      "La VDT 814/2720 edizione ed_2023 non è presente in web sal.\n",
      "VDT n.6 di 8, VDT = OS.MC.A.0102.A, Q = 1.0, Descrizione = \n",
      "VDT n.7 di 8, VDT = OS.MC.A.0102.A, Q = 1.0, Descrizione = \n",
      "VDT n.8 di 8, VDT = 814/3090, Q = 15.0, Descrizione = MATERIALE INSTALLAZIONE\n",
      "Proc. click: xpath = //span[text()=\"Altra gestione\"]/../.., Tentavivo n.1 di 120 fine\n"
     ]
    }
   ],
   "source": [
    "import websap\n",
    "\n",
    "sap = websap.WebSAP(\"932197\", \".Gioia6666\")\n",
    "sap.logon()\n",
    "sap.sal(id_sal='5031011905-003')\n",
    "#sap.perizia(network=\"100159079\", file_excel=\"Perizia.xlsx\", nome_foglio=\"VDT\")\n",
    "\n",
    "print(\"fine\")\n"
   ]
  }
 ],
 "metadata": {
  "kernelspec": {
   "display_name": "Python 3 (ipykernel)",
   "language": "python",
   "name": "python3"
  },
  "language_info": {
   "codemirror_mode": {
    "name": "ipython",
    "version": 3
   },
   "file_extension": ".py",
   "mimetype": "text/x-python",
   "name": "python",
   "nbconvert_exporter": "python",
   "pygments_lexer": "ipython3",
   "version": "3.11.8"
  },
  "vp": {
   "vp_config_version": "1.0.0",
   "vp_menu_width": 273,
   "vp_note_display": false,
   "vp_note_width": 0,
   "vp_position": {
    "width": 278
   },
   "vp_section_display": false,
   "vp_signature": "VisualPython"
  }
 },
 "nbformat": 4,
 "nbformat_minor": 5
}
