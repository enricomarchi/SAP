{
 "cells": [
  {
   "cell_type": "code",
   "execution_count": 7,
   "id": "2b391454",
   "metadata": {
    "scrolled": false
   },
   "outputs": [
    {
     "name": "stdout",
     "output_type": "stream",
     "text": [
      "VDT n.1 di 1 844/1660\n"
     ]
    },
    {
     "ename": "TimeoutException",
     "evalue": "Message: None\n",
     "output_type": "error",
     "traceback": [
      "\u001b[1;31m---------------------------------------------------------------------------\u001b[0m",
      "\u001b[1;31mTimeoutException\u001b[0m                          Traceback (most recent call last)",
      "\u001b[1;32mc:\\Users\\932197\\Documents\\dati_locali\\git-hub\\SAP\\Web_SAL_Perizie.ipynb Cell 1\u001b[0m line \u001b[0;36m5\n\u001b[0;32m      <a href='vscode-notebook-cell:/c%3A/Users/932197/Documents/dati_locali/git-hub/SAP/Web_SAL_Perizie.ipynb#W0sZmlsZQ%3D%3D?line=0'>1</a>\u001b[0m \u001b[39mimport\u001b[39;00m \u001b[39mwebsap\u001b[39;00m\n\u001b[0;32m      <a href='vscode-notebook-cell:/c%3A/Users/932197/Documents/dati_locali/git-hub/SAP/Web_SAL_Perizie.ipynb#W0sZmlsZQ%3D%3D?line=2'>3</a>\u001b[0m sap \u001b[39m=\u001b[39m websap\u001b[39m.\u001b[39mWebSAP(\u001b[39m\"\u001b[39m\u001b[39m932197\u001b[39m\u001b[39m\"\u001b[39m, \u001b[39m\"\u001b[39m\u001b[39m.Gioia5555\u001b[39m\u001b[39m\"\u001b[39m)\n\u001b[1;32m----> <a href='vscode-notebook-cell:/c%3A/Users/932197/Documents/dati_locali/git-hub/SAP/Web_SAL_Perizie.ipynb#W0sZmlsZQ%3D%3D?line=4'>5</a>\u001b[0m sap\u001b[39m.\u001b[39;49msal(oda\u001b[39m=\u001b[39;49m\u001b[39m\"\u001b[39;49m\u001b[39m5031011905\u001b[39;49m\u001b[39m\"\u001b[39;49m, file_excel\u001b[39m=\u001b[39;49m\u001b[39m\"\u001b[39;49m\u001b[39mSAL.xlsx\u001b[39;49m\u001b[39m\"\u001b[39;49m)\n\u001b[0;32m      <a href='vscode-notebook-cell:/c%3A/Users/932197/Documents/dati_locali/git-hub/SAP/Web_SAL_Perizie.ipynb#W0sZmlsZQ%3D%3D?line=5'>6</a>\u001b[0m \u001b[39m#sap.perizia(network=\"100159079\", file_excel=\"Perizia.xlsx\", nome_foglio=\"VDT\")\u001b[39;00m\n\u001b[0;32m      <a href='vscode-notebook-cell:/c%3A/Users/932197/Documents/dati_locali/git-hub/SAP/Web_SAL_Perizie.ipynb#W0sZmlsZQ%3D%3D?line=7'>8</a>\u001b[0m i \u001b[39m=\u001b[39m \u001b[39minput\u001b[39m(\u001b[39m\"\u001b[39m\u001b[39mpremere invio per terminare\u001b[39m\u001b[39m\"\u001b[39m)\n",
      "File \u001b[1;32mc:\\Users\\932197\\Documents\\dati_locali\\git-hub\\SAP\\websap.py:217\u001b[0m, in \u001b[0;36mWebSAP.sal\u001b[1;34m(self, oda, file_excel)\u001b[0m\n\u001b[0;32m    215\u001b[0m \u001b[39mtry\u001b[39;00m:\n\u001b[0;32m    216\u001b[0m     \u001b[39mprint\u001b[39m(\u001b[39mf\u001b[39m\u001b[39m\"\u001b[39m\u001b[39m\\r\u001b[39;00m\u001b[39mVDT n.\u001b[39m\u001b[39m{\u001b[39;00mi_vdt\u001b[39m}\u001b[39;00m\u001b[39m di \u001b[39m\u001b[39m{\u001b[39;00mtot_vdt\u001b[39m}\u001b[39;00m\u001b[39m\"\u001b[39m, end\u001b[39m=\u001b[39m\u001b[39m\"\u001b[39m\u001b[39m \u001b[39m\u001b[39m\"\u001b[39m, flush\u001b[39m=\u001b[39m\u001b[39mTrue\u001b[39;00m)\n\u001b[1;32m--> 217\u001b[0m     \u001b[39mself\u001b[39;49m\u001b[39m.\u001b[39;49m__inserisci_vdt_sal(index, row)\n\u001b[0;32m    218\u001b[0m     time\u001b[39m.\u001b[39msleep(\u001b[39m1\u001b[39m)\n\u001b[0;32m    219\u001b[0m     df\u001b[39m.\u001b[39mat[index, \u001b[39m\"\u001b[39m\u001b[39mInserita\u001b[39m\u001b[39m\"\u001b[39m] \u001b[39m=\u001b[39m \u001b[39m\"\u001b[39m\u001b[39mx\u001b[39m\u001b[39m\"\u001b[39m\n",
      "File \u001b[1;32mc:\\Users\\932197\\Documents\\dati_locali\\git-hub\\SAP\\websap.py:292\u001b[0m, in \u001b[0;36mWebSAP.__inserisci_vdt_sal\u001b[1;34m(self, index, row)\u001b[0m\n\u001b[0;32m    289\u001b[0m     \u001b[39mself\u001b[39m\u001b[39m.\u001b[39mclick(\u001b[39m'\u001b[39m\u001b[39m//span[text()=\u001b[39m\u001b[39m\"\u001b[39m\u001b[39mInserisci\u001b[39m\u001b[39m\"\u001b[39m\u001b[39m]/../..\u001b[39m\u001b[39m'\u001b[39m)      \u001b[39m# inserisci\u001b[39;00m\n\u001b[0;32m    291\u001b[0m time\u001b[39m.\u001b[39msleep(\u001b[39m1\u001b[39m)\n\u001b[1;32m--> 292\u001b[0m \u001b[39mself\u001b[39;49m\u001b[39m.\u001b[39;49mclick(\u001b[39mf\u001b[39;49m\u001b[39m'\u001b[39;49m\u001b[39m//span[text()=\u001b[39;49m\u001b[39m\"\u001b[39;49m\u001b[39m{\u001b[39;49;00mdescrizione_vdt\u001b[39m}\u001b[39;49;00m\u001b[39m\"\u001b[39;49m\u001b[39m]/../../../../../../../../../../../../td[2]//span[text()=\u001b[39;49m\u001b[39m\"\u001b[39;49m\u001b[39mGestione Misurazioni\u001b[39;49m\u001b[39m\"\u001b[39;49m\u001b[39m]/../..\u001b[39;49m\u001b[39m'\u001b[39;49m)  \u001b[39m# Gestione misurazioni\u001b[39;00m\n\u001b[0;32m    294\u001b[0m time\u001b[39m.\u001b[39msleep(\u001b[39m1\u001b[39m)\n\u001b[0;32m    295\u001b[0m tabella_misure \u001b[39m=\u001b[39m \u001b[39m'\u001b[39m\u001b[39m//span[text()=\u001b[39m\u001b[39m\"\u001b[39m\u001b[39m+/-\u001b[39m\u001b[39m\"\u001b[39m\u001b[39m]/../../../../..\u001b[39m\u001b[39m'\u001b[39m  \u001b[39m# xpath della tabella misure\u001b[39;00m\n",
      "File \u001b[1;32mc:\\Users\\932197\\Documents\\dati_locali\\git-hub\\SAP\\websap.py:126\u001b[0m, in \u001b[0;36mWebSAP.click\u001b[1;34m(self, xpath)\u001b[0m\n\u001b[0;32m    117\u001b[0m \u001b[39mdef\u001b[39;00m \u001b[39mclick\u001b[39m(\n\u001b[0;32m    118\u001b[0m         \u001b[39mself\u001b[39m,\n\u001b[0;32m    119\u001b[0m         xpath: \u001b[39mstr\u001b[39m,\n\u001b[0;32m    120\u001b[0m ):\n\u001b[0;32m    121\u001b[0m \u001b[39m    \u001b[39m\u001b[39m\"\"\"\u001b[39;00m\n\u001b[0;32m    122\u001b[0m \u001b[39m    Simula un click del mouse sull'elemento puntato da xpath.\u001b[39;00m\n\u001b[0;32m    123\u001b[0m \u001b[39m    :param xpath: xpath dell'elemento da cliccare\u001b[39;00m\n\u001b[0;32m    124\u001b[0m \u001b[39m    :return: WebElement\u001b[39;00m\n\u001b[0;32m    125\u001b[0m \u001b[39m    \"\"\"\u001b[39;00m\n\u001b[1;32m--> 126\u001b[0m     elem \u001b[39m=\u001b[39m \u001b[39mself\u001b[39;49m\u001b[39m.\u001b[39;49melemento(xpath)\n\u001b[0;32m    127\u001b[0m     elem\u001b[39m.\u001b[39mclick()\n\u001b[0;32m    128\u001b[0m     time\u001b[39m.\u001b[39msleep(\u001b[39m1\u001b[39m)\n",
      "File \u001b[1;32mc:\\Users\\932197\\Documents\\dati_locali\\git-hub\\SAP\\websap.py:84\u001b[0m, in \u001b[0;36mWebSAP.elemento\u001b[1;34m(self, xpath)\u001b[0m\n\u001b[0;32m     81\u001b[0m         \u001b[39mpass\u001b[39;00m\n\u001b[0;32m     83\u001b[0m \u001b[39m#elem = WebDriverWait(self.driver, self.timeout, 1).until(lambda x: x.find_element(By.XPATH, xpath))\u001b[39;00m\n\u001b[1;32m---> 84\u001b[0m \u001b[39mraise\u001b[39;00m TimeoutException\n",
      "\u001b[1;31mTimeoutException\u001b[0m: Message: None\n"
     ]
    }
   ],
   "source": [
    "import websap\n",
    "\n",
    "sap = websap.WebSAP(\"932197\", \".Gioia5555\")\n",
    "\n",
    "sap.sal(oda=\"5031011905\", file_excel=\"SAL.xlsx\")\n",
    "#sap.perizia(network=\"100159079\", file_excel=\"Perizia.xlsx\", nome_foglio=\"VDT\")\n",
    "\n",
    "i = input(\"premere invio per terminare\")\n",
    "print(\"fine\")\n"
   ]
  },
  {
   "cell_type": "code",
   "execution_count": null,
   "id": "555011a6",
   "metadata": {},
   "outputs": [],
   "source": []
  }
 ],
 "metadata": {
  "kernelspec": {
   "display_name": "Python 3 (ipykernel)",
   "language": "python",
   "name": "python3"
  },
  "language_info": {
   "codemirror_mode": {
    "name": "ipython",
    "version": 3
   },
   "file_extension": ".py",
   "mimetype": "text/x-python",
   "name": "python",
   "nbconvert_exporter": "python",
   "pygments_lexer": "ipython3",
   "version": "3.11.6"
  },
  "vp": {
   "vp_config_version": "1.0.0",
   "vp_menu_width": 273,
   "vp_note_display": false,
   "vp_note_width": 0,
   "vp_position": {
    "width": 278
   },
   "vp_section_display": false,
   "vp_signature": "VisualPython"
  }
 },
 "nbformat": 4,
 "nbformat_minor": 5
}
