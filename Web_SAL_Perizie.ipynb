{
 "cells": [
  {
   "cell_type": "code",
   "execution_count": 1,
   "id": "2b391454",
   "metadata": {
    "scrolled": false
   },
   "outputs": [
    {
     "name": "stdout",
     "output_type": "stream",
     "text": [
      "fine\n"
     ]
    }
   ],
   "source": [
    "import websap\n",
    "\n",
    "sap = websap.WebSAP(\"932197\", \".Gioia6666\")\n",
    "\n",
    "sap.sal(file_excel=\"SAL.xlsx\")\n",
    "#sap.perizia(network=\"100159079\", file_excel=\"Perizia.xlsx\", nome_foglio=\"VDT\")\n",
    "\n",
    "i = input(\"premere invio per terminare\")\n",
    "print(\"fine\")\n"
   ]
  }
 ],
 "metadata": {
  "kernelspec": {
   "display_name": "Python 3 (ipykernel)",
   "language": "python",
   "name": "python3"
  },
  "language_info": {
   "codemirror_mode": {
    "name": "ipython",
    "version": 3
   },
   "file_extension": ".py",
   "mimetype": "text/x-python",
   "name": "python",
   "nbconvert_exporter": "python",
   "pygments_lexer": "ipython3",
   "version": "3.11.8"
  },
  "vp": {
   "vp_config_version": "1.0.0",
   "vp_menu_width": 273,
   "vp_note_display": false,
   "vp_note_width": 0,
   "vp_position": {
    "width": 278
   },
   "vp_section_display": false,
   "vp_signature": "VisualPython"
  }
 },
 "nbformat": 4,
 "nbformat_minor": 5
}
