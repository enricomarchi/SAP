{
 "cells": [
  {
   "cell_type": "code",
   "execution_count": 1,
   "id": "2b391454",
   "metadata": {
    "scrolled": false
   },
   "outputs": [
    {
     "name": "stdout",
     "output_type": "stream",
     "text": [
      "VDT n.1 di 3, VDT = 909/6260, Q = 220.0, Descrizione = \n",
      "Proc. click: xpath = //td[4]//span[contains(translate(text(), \"abcdefghijklmnopqrstuvwxyz\", \"ABCDEFGHIJKLMNOPQRSTUVWXYZ\"), \"909/6260\")]/../../../../../../../../../../../../td[2]//span[text()=\"Gestione Misurazioni\"]/../.., Tentavivo n.1 di 240 VDT n.2 di 3, VDT = 995/7850, Q = 4.0, Descrizione = \n",
      "La VDT 995/7850 edizione ed_2023 non è presente in web sal.\n",
      "VDT n.3 di 3, VDT = 995/8150, Q = 16.0, Descrizione = \n",
      "Proc. click: xpath = //span[text()=\"Altra gestione\"]/../.., Tentavivo n.108 di 240 uvwxyz\", \"ABCDEFGHIJKLMNOPQRSTUVWXYZ\"), \"995/8150\")]/../../../../../../../../../../../../td[2]//span[text()=\"Gestione Misurazioni\"]/../.., Tentavivo n.1 di 240 fine\n"
     ]
    }
   ],
   "source": [
    "import websap\n",
    "\n",
    "sap = websap.WebSAP(\"932197\", \".Gioia7777\")\n",
    "sap.logon()\n",
    "\n",
    "sap.sal(id_sal='5031012302-005', riepilogo_vdt=1, rielaborazione=0)\n",
    "#sap.perizia(network=\"100159079\", file_excel=\"Perizia.xlsx\", nome_foglio=\"VDT\")\n",
    "\n",
    "print(\"fine\")\n"
   ]
  }
 ],
 "metadata": {
  "kernelspec": {
   "display_name": "Python 3 (ipykernel)",
   "language": "python",
   "name": "python3"
  },
  "language_info": {
   "codemirror_mode": {
    "name": "ipython",
    "version": 3
   },
   "file_extension": ".py",
   "mimetype": "text/x-python",
   "name": "python",
   "nbconvert_exporter": "python",
   "pygments_lexer": "ipython3",
   "version": "3.11.8"
  },
  "vp": {
   "vp_config_version": "1.0.0",
   "vp_menu_width": 273,
   "vp_note_display": false,
   "vp_note_width": 0,
   "vp_position": {
    "width": 278
   },
   "vp_section_display": false,
   "vp_signature": "VisualPython"
  }
 },
 "nbformat": 4,
 "nbformat_minor": 5
}
