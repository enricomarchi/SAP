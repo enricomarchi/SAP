{
 "cells": [
  {
   "cell_type": "code",
   "execution_count": 1,
   "id": "2b391454",
   "metadata": {
    "scrolled": false
   },
   "outputs": [
    {
     "name": "stdout",
     "output_type": "stream",
     "text": [
      "OS.IF.A.0102.A\n",
      "OS.MS.B.0104.A\n",
      "OS.MS.B.0105.A\n",
      "OS.AP.A.0103.A\n",
      "OS.MS.A.0102.A\n",
      "fine\n"
     ]
    }
   ],
   "source": [
    "import websap\n",
    "\n",
    "sap = websap.WebSAP(\"932197\", \".Gioia5555\")\n",
    "\n",
    "#sap.sal(oda=\"5042121189\", file_excel=\"SAL.xlsx\")\n",
    "sap.perizia(network=\"100159079\", file_excel=\"Perizia.xlsx\", nome_foglio=\"VDT\")\n",
    "\n",
    "i = input(\"premere invio per terminare\")\n",
    "print(\"fine\")\n"
   ]
  },
  {
   "cell_type": "code",
   "execution_count": null,
   "id": "555011a6",
   "metadata": {},
   "outputs": [],
   "source": []
  }
 ],
 "metadata": {
  "kernelspec": {
   "display_name": "Python 3 (ipykernel)",
   "language": "python",
   "name": "python3"
  },
  "language_info": {
   "codemirror_mode": {
    "name": "ipython",
    "version": 3
   },
   "file_extension": ".py",
   "mimetype": "text/x-python",
   "name": "python",
   "nbconvert_exporter": "python",
   "pygments_lexer": "ipython3",
   "version": "3.11.3"
  },
  "vp": {
   "vp_config_version": "1.0.0",
   "vp_menu_width": 273,
   "vp_note_display": false,
   "vp_note_width": 0,
   "vp_position": {
    "width": 278
   },
   "vp_section_display": false,
   "vp_signature": "VisualPython"
  }
 },
 "nbformat": 4,
 "nbformat_minor": 5
}
