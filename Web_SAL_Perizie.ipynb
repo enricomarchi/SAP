{
 "cells": [
  {
   "cell_type": "code",
   "execution_count": 5,
   "id": "2b391454",
   "metadata": {
    "scrolled": false
   },
   "outputs": [
    {
     "name": "stdout",
     "output_type": "stream",
     "text": [
      "VDT n.1 di 11 995/7590\n",
      "La VDT 995/7590 edizione ed_2023 non è presente in web sal.\n",
      "VDT n.2 di 11 995/7880\n",
      "La VDT 995/7880 edizione ed_2023 non è presente in web sal.\n",
      "VDT n.3 di 11 995/8190\n",
      "La VDT 995/8190 edizione ed_2023 non è presente in web sal.\n",
      "VDT n.4 di 11 995/7710\n",
      "La VDT 995/7710 edizione ed_2023 non è presente in web sal.\n",
      "VDT n.5 di 11 995/7880\n",
      "La VDT 995/7880 edizione ed_2023 non è presente in web sal.\n",
      "VDT n.6 di 11 995/7960\n",
      "La VDT 995/7960 edizione ed_2023 non è presente in web sal.\n",
      "VDT n.7 di 11 814/2710\n",
      "La VDT 814/2710 edizione ed_2023 non è presente in web sal.\n",
      "VDT n.8 di 11 814/2720\n",
      "La VDT 814/2720 edizione ed_2023 non è presente in web sal.\n",
      "VDT n.9 di 11 814/2730\n",
      "La VDT 814/2730 edizione ed_2023 non è presente in web sal.\n",
      "VDT n.10 di 11 814/7320\n",
      "La VDT 814/7320 edizione ed_2023 non è presente in web sal.\n",
      "VDT n.11 di 11 814/7470\n",
      "La VDT 814/7470 edizione ed_2023 non è presente in web sal.\n",
      "fine\n"
     ]
    }
   ],
   "source": [
    "import websap\n",
    "\n",
    "sap = websap.WebSAP(\"932197\", \".Gioia5555\")\n",
    "\n",
    "sap.sal(oda=\"5031012302\", file_excel=\"SAL.xlsx\")\n",
    "#sap.perizia(network=\"100159079\", file_excel=\"Perizia.xlsx\", nome_foglio=\"VDT\")\n",
    "\n",
    "i = input(\"premere invio per terminare\")\n",
    "print(\"fine\")\n"
   ]
  },
  {
   "cell_type": "code",
   "execution_count": null,
   "id": "555011a6",
   "metadata": {},
   "outputs": [],
   "source": []
  }
 ],
 "metadata": {
  "kernelspec": {
   "display_name": "Python 3 (ipykernel)",
   "language": "python",
   "name": "python3"
  },
  "language_info": {
   "codemirror_mode": {
    "name": "ipython",
    "version": 3
   },
   "file_extension": ".py",
   "mimetype": "text/x-python",
   "name": "python",
   "nbconvert_exporter": "python",
   "pygments_lexer": "ipython3",
   "version": "3.11.6"
  },
  "vp": {
   "vp_config_version": "1.0.0",
   "vp_menu_width": 273,
   "vp_note_display": false,
   "vp_note_width": 0,
   "vp_position": {
    "width": 278
   },
   "vp_section_display": false,
   "vp_signature": "VisualPython"
  }
 },
 "nbformat": 4,
 "nbformat_minor": 5
}
