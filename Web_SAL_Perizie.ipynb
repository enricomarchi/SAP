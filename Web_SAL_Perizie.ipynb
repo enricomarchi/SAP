{
 "cells": [
  {
   "cell_type": "code",
   "execution_count": 1,
   "id": "2b391454",
   "metadata": {
    "scrolled": false
   },
   "outputs": [
    {
     "name": "stdout",
     "output_type": "stream",
     "text": [
      "Proc. click: xpath = //td[@ut=\"3\"][@cc=\"3\"]/a, Tentavivo n.1 di 240 VDT n.1 di 3, VDT = 814/2580, Q = 90.0, Descrizione = \n",
      "La VDT 814/2580 edizione ed_2023 non è presente in web sal.\n",
      "VDT n.2 di 3, VDT = 912/8680, Q = 10.0, Descrizione = \n",
      "La VDT 912/8680 edizione ed_2023 non è presente in web sal.\n",
      "VDT n.3 di 3, VDT = 912/9240, Q = 5.0, Descrizione = \n",
      "La VDT 912/9240 edizione ed_2023 non è presente in web sal.\n",
      "Proc. click: xpath = //span[text()=\"Altra gestione\"]/../.., Tentavivo n.1 di 240 fine\n"
     ]
    }
   ],
   "source": [
    "import websap\n",
    "\n",
    "sap = websap.WebSAP(\"932197\", \".Gioia7777\")\n",
    "sap.logon()\n",
    "\n",
    "sap.sal(id_sal='5031013104-001', riepilogo_vdt=1)\n",
    "#sap.perizia(network=\"100159079\", file_excel=\"Perizia.xlsx\", nome_foglio=\"VDT\")\n",
    "\n",
    "print(\"fine\")\n"
   ]
  }
 ],
 "metadata": {
  "kernelspec": {
   "display_name": "Python 3 (ipykernel)",
   "language": "python",
   "name": "python3"
  },
  "language_info": {
   "codemirror_mode": {
    "name": "ipython",
    "version": 3
   },
   "file_extension": ".py",
   "mimetype": "text/x-python",
   "name": "python",
   "nbconvert_exporter": "python",
   "pygments_lexer": "ipython3",
   "version": "3.11.8"
  },
  "vp": {
   "vp_config_version": "1.0.0",
   "vp_menu_width": 273,
   "vp_note_display": false,
   "vp_note_width": 0,
   "vp_position": {
    "width": 278
   },
   "vp_section_display": false,
   "vp_signature": "VisualPython"
  }
 },
 "nbformat": 4,
 "nbformat_minor": 5
}
