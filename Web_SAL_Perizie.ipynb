{
 "cells": [
  {
   "cell_type": "code",
   "execution_count": 2,
   "id": "2b391454",
   "metadata": {
    "scrolled": false
   },
   "outputs": [
    {
     "name": "stdout",
     "output_type": "stream",
     "text": [
      "Proc. click: xpath = //div[@title=\"SAL\"], Tentavivo n.1 di 240 VDT n.1 di 1, VDT = VS.01 FORN SWITCH CISCO CATALYST 9300, Q = 2.0, Descrizione = \n",
      "Proc. click: xpath = //td[4]//span[contains(text(), \"VS.01 FORN SWITCH CISCO CATALYST 9300\")]/../../../../../../../../../../../../td[2]//span[text()=\"Gestione Misurazioni\"]/../.., Tentavivo n.239 di 240 \n"
     ]
    },
    {
     "ename": "Ex_xpath_vuoto",
     "evalue": "Nessun xpath fornito",
     "output_type": "error",
     "traceback": [
      "\u001b[1;31m---------------------------------------------------------------------------\u001b[0m",
      "\u001b[1;31mEx_xpath_vuoto\u001b[0m                            Traceback (most recent call last)",
      "Cell \u001b[1;32mIn[2], line 5\u001b[0m\n\u001b[0;32m      3\u001b[0m sap \u001b[38;5;241m=\u001b[39m websap\u001b[38;5;241m.\u001b[39mWebSAP(\u001b[38;5;124m\"\u001b[39m\u001b[38;5;124m932197\u001b[39m\u001b[38;5;124m\"\u001b[39m, \u001b[38;5;124m\"\u001b[39m\u001b[38;5;124m.Gioia7777\u001b[39m\u001b[38;5;124m\"\u001b[39m)\n\u001b[0;32m      4\u001b[0m sap\u001b[38;5;241m.\u001b[39mlogon()\n\u001b[1;32m----> 5\u001b[0m \u001b[43msap\u001b[49m\u001b[38;5;241;43m.\u001b[39;49m\u001b[43msal\u001b[49m\u001b[43m(\u001b[49m\u001b[43mid_sal\u001b[49m\u001b[38;5;241;43m=\u001b[39;49m\u001b[38;5;124;43m'\u001b[39;49m\u001b[38;5;124;43m5031012302-004\u001b[39;49m\u001b[38;5;124;43m'\u001b[39;49m\u001b[43m,\u001b[49m\u001b[43m \u001b[49m\u001b[43mriepilogo_vdt\u001b[49m\u001b[38;5;241;43m=\u001b[39;49m\u001b[38;5;241;43m1\u001b[39;49m\u001b[43m)\u001b[49m\n\u001b[0;32m      6\u001b[0m \u001b[38;5;66;03m#sap.perizia(network=\"100159079\", file_excel=\"Perizia.xlsx\", nome_foglio=\"VDT\")\u001b[39;00m\n\u001b[0;32m      8\u001b[0m \u001b[38;5;28mprint\u001b[39m(\u001b[38;5;124m\"\u001b[39m\u001b[38;5;124mfine\u001b[39m\u001b[38;5;124m\"\u001b[39m)\n",
      "File \u001b[1;32mc:\\Users\\enrico\\Documents\\git-hub\\SAP\\websap.py:355\u001b[0m, in \u001b[0;36mWebSAP.sal\u001b[1;34m(self, id_sal, riepilogo_vdt)\u001b[0m\n\u001b[0;32m    353\u001b[0m \u001b[38;5;28mprint\u001b[39m(\u001b[38;5;124mf\u001b[39m\u001b[38;5;124m\"\u001b[39m\u001b[38;5;124mVDT n.\u001b[39m\u001b[38;5;132;01m{\u001b[39;00mi_vdt\u001b[38;5;132;01m}\u001b[39;00m\u001b[38;5;124m di \u001b[39m\u001b[38;5;132;01m{\u001b[39;00mtot_vdt\u001b[38;5;132;01m}\u001b[39;00m\u001b[38;5;124m, VDT = \u001b[39m\u001b[38;5;132;01m{\u001b[39;00mrow\u001b[38;5;241m.\u001b[39mvdt\u001b[38;5;132;01m}\u001b[39;00m\u001b[38;5;124m, Q = \u001b[39m\u001b[38;5;132;01m{\u001b[39;00mrow\u001b[38;5;241m.\u001b[39mquantità\u001b[38;5;132;01m}\u001b[39;00m\u001b[38;5;124m, Descrizione = \u001b[39m\u001b[38;5;132;01m{\u001b[39;00mrow\u001b[38;5;241m.\u001b[39mdescrizione\u001b[38;5;132;01m}\u001b[39;00m\u001b[38;5;124m\"\u001b[39m)\n\u001b[0;32m    354\u001b[0m \u001b[38;5;28mself\u001b[39m\u001b[38;5;241m.\u001b[39mattesa_caricamento()\n\u001b[1;32m--> 355\u001b[0m \u001b[38;5;28;43mself\u001b[39;49m\u001b[38;5;241;43m.\u001b[39;49m\u001b[43m__inserisci_vdt_sal\u001b[49m\u001b[43m(\u001b[49m\u001b[43mindex\u001b[49m\u001b[43m,\u001b[49m\u001b[43m \u001b[49m\u001b[43mrow\u001b[49m\u001b[43m)\u001b[49m\n\u001b[0;32m    356\u001b[0m time\u001b[38;5;241m.\u001b[39msleep(\u001b[38;5;241m1\u001b[39m)\n\u001b[0;32m    357\u001b[0m execute_stored_proc(\u001b[38;5;124m'\u001b[39m\u001b[38;5;124mmodifica_vdt_inserita_in_sal\u001b[39m\u001b[38;5;124m'\u001b[39m, (id_sal, row\u001b[38;5;241m.\u001b[39mvdt, n_riga, \u001b[38;5;124m'\u001b[39m\u001b[38;5;124mx\u001b[39m\u001b[38;5;124m'\u001b[39m))\n",
      "File \u001b[1;32mc:\\Users\\enrico\\Documents\\git-hub\\SAP\\websap.py:469\u001b[0m, in \u001b[0;36mWebSAP.__inserisci_vdt_sal\u001b[1;34m(self, index, row)\u001b[0m\n\u001b[0;32m    466\u001b[0m     \u001b[38;5;28;01mif\u001b[39;00m campo_misura\u001b[38;5;241m.\u001b[39mget_attribute(\u001b[38;5;124m'\u001b[39m\u001b[38;5;124mvalue\u001b[39m\u001b[38;5;124m'\u001b[39m) \u001b[38;5;241m==\u001b[39m \u001b[38;5;124m\"\u001b[39m\u001b[38;5;124m\"\u001b[39m:   \u001b[38;5;66;03m# quando trova la riga vuota esce dal ciclo\u001b[39;00m\n\u001b[0;32m    467\u001b[0m         \u001b[38;5;28;01mbreak\u001b[39;00m\n\u001b[1;32m--> 469\u001b[0m \u001b[38;5;28;43mself\u001b[39;49m\u001b[38;5;241;43m.\u001b[39;49m\u001b[43mtesto\u001b[49m\u001b[43m(\u001b[49m\u001b[43mdata\u001b[49m\u001b[43m,\u001b[49m\u001b[43m \u001b[49m\u001b[43mxpath_data\u001b[49m\u001b[43m)\u001b[49m\n\u001b[0;32m    470\u001b[0m time\u001b[38;5;241m.\u001b[39msleep(\u001b[38;5;241m1\u001b[39m)\n\u001b[0;32m    471\u001b[0m \u001b[38;5;28mself\u001b[39m\u001b[38;5;241m.\u001b[39mtesto(\u001b[38;5;28mstr\u001b[39m(q) \u001b[38;5;241m+\u001b[39m Keys\u001b[38;5;241m.\u001b[39mENTER, xpath_misura)\n",
      "File \u001b[1;32mc:\\Users\\enrico\\Documents\\git-hub\\SAP\\websap.py:289\u001b[0m, in \u001b[0;36mWebSAP.testo\u001b[1;34m(self, txt, xpath)\u001b[0m\n\u001b[0;32m    278\u001b[0m \u001b[38;5;28;01mdef\u001b[39;00m \u001b[38;5;21mtesto\u001b[39m(\n\u001b[0;32m    279\u001b[0m         \u001b[38;5;28mself\u001b[39m,\n\u001b[0;32m    280\u001b[0m         txt: \u001b[38;5;28mstr\u001b[39m,\n\u001b[0;32m    281\u001b[0m         xpath: \u001b[38;5;28mstr\u001b[39m\n\u001b[0;32m    282\u001b[0m ):\n\u001b[0;32m    283\u001b[0m \u001b[38;5;250m    \u001b[39m\u001b[38;5;124;03m\"\"\"\u001b[39;00m\n\u001b[0;32m    284\u001b[0m \u001b[38;5;124;03m    Fa un click sull'elemento ed inserisce il testo specificato.\u001b[39;00m\n\u001b[0;32m    285\u001b[0m \u001b[38;5;124;03m    :param txt: il testo da inserire\u001b[39;00m\n\u001b[0;32m    286\u001b[0m \u001b[38;5;124;03m    :param xpath: xpath dell'elemento\u001b[39;00m\n\u001b[0;32m    287\u001b[0m \u001b[38;5;124;03m    :return: WebElement\u001b[39;00m\n\u001b[0;32m    288\u001b[0m \u001b[38;5;124;03m    \"\"\"\u001b[39;00m\n\u001b[1;32m--> 289\u001b[0m     elem \u001b[38;5;241m=\u001b[39m \u001b[38;5;28;43mself\u001b[39;49m\u001b[38;5;241;43m.\u001b[39;49m\u001b[43mclick\u001b[49m\u001b[43m(\u001b[49m\u001b[43mxpath\u001b[49m\u001b[43m)\u001b[49m\n\u001b[0;32m    290\u001b[0m     elem\u001b[38;5;241m.\u001b[39mclear()\n\u001b[0;32m    291\u001b[0m     time\u001b[38;5;241m.\u001b[39msleep(\u001b[38;5;241m1\u001b[39m)\n",
      "File \u001b[1;32mc:\\Users\\enrico\\Documents\\git-hub\\SAP\\websap.py:275\u001b[0m, in \u001b[0;36mWebSAP.click\u001b[1;34m(self, xpath)\u001b[0m\n\u001b[0;32m    273\u001b[0m             time\u001b[38;5;241m.\u001b[39msleep(\u001b[38;5;241m1\u001b[39m)\n\u001b[0;32m    274\u001b[0m \u001b[38;5;28;01melse\u001b[39;00m:\n\u001b[1;32m--> 275\u001b[0m     \u001b[38;5;28;01mraise\u001b[39;00m Ex_xpath_vuoto(\u001b[38;5;124m'\u001b[39m\u001b[38;5;124mNessun xpath fornito\u001b[39m\u001b[38;5;124m'\u001b[39m)\n\u001b[0;32m    276\u001b[0m \u001b[38;5;28mprint\u001b[39m(\u001b[38;5;124m'\u001b[39m\u001b[38;5;124m'\u001b[39m, end\u001b[38;5;241m=\u001b[39m\u001b[38;5;124m'\u001b[39m\u001b[38;5;130;01m\\n\u001b[39;00m\u001b[38;5;124m'\u001b[39m)\n",
      "\u001b[1;31mEx_xpath_vuoto\u001b[0m: Nessun xpath fornito"
     ]
    }
   ],
   "source": [
    "import websap\n",
    "\n",
    "sap = websap.WebSAP(\"932197\", \".Gioia7777\")\n",
    "sap.logon()\n",
    "sap.sal(id_sal='5031012302-004', riepilogo_vdt=1)\n",
    "#sap.perizia(network=\"100159079\", file_excel=\"Perizia.xlsx\", nome_foglio=\"VDT\")\n",
    "\n",
    "print(\"fine\")\n"
   ]
  }
 ],
 "metadata": {
  "kernelspec": {
   "display_name": "Python 3 (ipykernel)",
   "language": "python",
   "name": "python3"
  },
  "language_info": {
   "codemirror_mode": {
    "name": "ipython",
    "version": 3
   },
   "file_extension": ".py",
   "mimetype": "text/x-python",
   "name": "python",
   "nbconvert_exporter": "python",
   "pygments_lexer": "ipython3",
   "version": "3.11.8"
  },
  "vp": {
   "vp_config_version": "1.0.0",
   "vp_menu_width": 273,
   "vp_note_display": false,
   "vp_note_width": 0,
   "vp_position": {
    "width": 278
   },
   "vp_section_display": false,
   "vp_signature": "VisualPython"
  }
 },
 "nbformat": 4,
 "nbformat_minor": 5
}
