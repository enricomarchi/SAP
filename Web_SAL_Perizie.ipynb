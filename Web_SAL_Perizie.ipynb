{
 "cells": [
  {
   "cell_type": "code",
   "execution_count": 3,
   "id": "2b391454",
   "metadata": {
    "scrolled": false
   },
   "outputs": [
    {
     "name": "stdout",
     "output_type": "stream",
     "text": [
      "VDT n.1 di 47 MO.IM.D.1100.A\n",
      "La VDT MO.IM.D.1100.A edizione ed_2023 non è presente in web sal.\n",
      "VDT n.2 di 47 MO.IM.D.1100.A\n",
      "La VDT MO.IM.D.1100.A edizione ed_2023 non è presente in web sal.\n",
      "VDT n.3 di 47 OM.OM.V.3001.D\n",
      "La VDT OM.OM.V.3001.D edizione ed_2023 non è presente in web sal.\n",
      "VDT n.4 di 47 OM.OM.V.3001.D\n",
      "La VDT OM.OM.V.3001.D edizione ed_2023 non è presente in web sal.\n",
      "VDT n.5 di 47 OM.OM.V.3001.D\n",
      "La VDT OM.OM.V.3001.D edizione ed_2023 non è presente in web sal.\n",
      "VDT n.6 di 47 OM.OM.V.3001.D\n",
      "La VDT OM.OM.V.3001.D edizione ed_2023 non è presente in web sal.\n",
      "VDT n.7 di 47 OM.SE.A.1 20.D\n",
      "La VDT OM.SE.A.1 20.D edizione ed_2023 non è presente in web sal.\n",
      "VDT n.8 di 47 OS.AP.A.0103.A\n",
      "VDT n.9 di 47 OS.AP.A.0106.A\n",
      "VDT n.10 di 47 OS.AP.A.0112.B\n",
      "VDT n.11 di 47 OS.AP.A.0114.B\n",
      "VDT n.12 di 47 OS.AP.C.0101.A\n",
      "VDT n.13 di 47 OS.AP.C.0101.A\n",
      "VDT n.14 di 47 OS.AP.C.0101.A\n",
      "VDT n.15 di 47 OS.AP.N.0101.A\n",
      "VDT n.16 di 47 OS.AP.N.0101.A\n",
      "VDT n.17 di 47 OS.IF.A.0102.A\n",
      "VDT n.18 di 47 OS.MS.A.0102.B\n",
      "VDT n.19 di 47 TC.CS.A.1001.B\n",
      "VDT n.20 di 47 TC.PM.F.2 05.B\n",
      "VDT n.21 di 47 TC.RR.C.1001.O\n",
      "VDT n.22 di 47 TC.RR.C.1001.X\n",
      "VDT n.23 di 47 TC.ST.H.3105.A\n",
      "VDT n.24 di 47 TC.ST.H.3105.A\n",
      "VDT n.25 di 47 TC.ST.H.3105.A\n",
      "VDT n.26 di 47 TC.ST.H.3105.A\n",
      "VDT n.27 di 47 TC.ST.H.3105.A\n",
      "VDT n.28 di 47 TC.ST.H.3105.A\n",
      "VDT n.29 di 47 TC.ST.H.3105.A\n",
      "VDT n.30 di 47 TC.ST.H.3105.A\n",
      "VDT n.31 di 47 TC.ST.H.3105.B\n",
      "VDT n.32 di 47 TC.ST.H.3105.B\n",
      "VDT n.33 di 47 TC.ST.H.3105.B\n",
      "VDT n.34 di 47 TC.ST.H.3105.B\n",
      "VDT n.35 di 47 TC.ST.H.3105.B\n",
      "VDT n.36 di 47 TC.ST.H.3105.B\n",
      "VDT n.37 di 47 TC.ST.H.3105.C\n",
      "VDT n.38 di 47 TC.ST.H.3105.D\n",
      "VDT n.39 di 47 TC.ST.H.3105.D\n",
      "VDT n.40 di 47 TC.ST.H.3105.D\n",
      "VDT n.41 di 47 TC.ST.H.3105.D\n",
      "VDT n.42 di 47 TC.ST.H.3105.D\n",
      "VDT n.43 di 47 TC.ST.H.3105.D\n",
      "VDT n.44 di 47 TC.ST.H.3105.D\n",
      "VDT n.45 di 47 TC.ST.H.3105.D\n",
      "VDT n.46 di 47 PROGETTO\n"
     ]
    },
    {
     "ename": "IndexError",
     "evalue": "single positional indexer is out-of-bounds",
     "output_type": "error",
     "traceback": [
      "\u001b[1;31m---------------------------------------------------------------------------\u001b[0m",
      "\u001b[1;31mIndexError\u001b[0m                                Traceback (most recent call last)",
      "Cell \u001b[1;32mIn[3], line 5\u001b[0m\n\u001b[0;32m      1\u001b[0m \u001b[38;5;28;01mimport\u001b[39;00m \u001b[38;5;21;01mwebsap\u001b[39;00m\n\u001b[0;32m      3\u001b[0m sap \u001b[38;5;241m=\u001b[39m websap\u001b[38;5;241m.\u001b[39mWebSAP(\u001b[38;5;124m\"\u001b[39m\u001b[38;5;124m932197\u001b[39m\u001b[38;5;124m\"\u001b[39m, \u001b[38;5;124m\"\u001b[39m\u001b[38;5;124m.Gioia6666\u001b[39m\u001b[38;5;124m\"\u001b[39m)\n\u001b[1;32m----> 5\u001b[0m \u001b[43msap\u001b[49m\u001b[38;5;241;43m.\u001b[39;49m\u001b[43msal\u001b[49m\u001b[43m(\u001b[49m\u001b[43moda\u001b[49m\u001b[38;5;241;43m=\u001b[39;49m\u001b[38;5;124;43m\"\u001b[39;49m\u001b[38;5;124;43m5031012302\u001b[39;49m\u001b[38;5;124;43m\"\u001b[39;49m\u001b[43m,\u001b[49m\u001b[43m \u001b[49m\u001b[43mfile_excel\u001b[49m\u001b[38;5;241;43m=\u001b[39;49m\u001b[38;5;124;43m\"\u001b[39;49m\u001b[38;5;124;43mSAL.xlsx\u001b[39;49m\u001b[38;5;124;43m\"\u001b[39;49m\u001b[43m)\u001b[49m\n\u001b[0;32m      6\u001b[0m \u001b[38;5;66;03m#sap.perizia(network=\"100159079\", file_excel=\"Perizia.xlsx\", nome_foglio=\"VDT\")\u001b[39;00m\n\u001b[0;32m      8\u001b[0m i \u001b[38;5;241m=\u001b[39m \u001b[38;5;28minput\u001b[39m(\u001b[38;5;124m\"\u001b[39m\u001b[38;5;124mpremere invio per terminare\u001b[39m\u001b[38;5;124m\"\u001b[39m)\n",
      "File \u001b[1;32mc:\\Users\\932197\\Documents\\dati_locali\\git-hub\\SAP\\websap.py:215\u001b[0m, in \u001b[0;36mWebSAP.sal\u001b[1;34m(self, oda, file_excel)\u001b[0m\n\u001b[0;32m    213\u001b[0m \u001b[38;5;28;01mtry\u001b[39;00m:\n\u001b[0;32m    214\u001b[0m     \u001b[38;5;28mprint\u001b[39m(\u001b[38;5;124mf\u001b[39m\u001b[38;5;124m\"\u001b[39m\u001b[38;5;130;01m\\r\u001b[39;00m\u001b[38;5;124mVDT n.\u001b[39m\u001b[38;5;132;01m{\u001b[39;00mi_vdt\u001b[38;5;132;01m}\u001b[39;00m\u001b[38;5;124m di \u001b[39m\u001b[38;5;132;01m{\u001b[39;00mtot_vdt\u001b[38;5;132;01m}\u001b[39;00m\u001b[38;5;124m\"\u001b[39m, end\u001b[38;5;241m=\u001b[39m\u001b[38;5;124m\"\u001b[39m\u001b[38;5;124m \u001b[39m\u001b[38;5;124m\"\u001b[39m, flush\u001b[38;5;241m=\u001b[39m\u001b[38;5;28;01mTrue\u001b[39;00m)\n\u001b[1;32m--> 215\u001b[0m     \u001b[38;5;28;43mself\u001b[39;49m\u001b[38;5;241;43m.\u001b[39;49m\u001b[43m__inserisci_vdt_sal\u001b[49m\u001b[43m(\u001b[49m\u001b[43mindex\u001b[49m\u001b[43m,\u001b[49m\u001b[43m \u001b[49m\u001b[43mrow\u001b[49m\u001b[43m)\u001b[49m\n\u001b[0;32m    216\u001b[0m     time\u001b[38;5;241m.\u001b[39msleep(\u001b[38;5;241m1\u001b[39m)\n\u001b[0;32m    217\u001b[0m     df\u001b[38;5;241m.\u001b[39mat[index, \u001b[38;5;124m\"\u001b[39m\u001b[38;5;124mInserita\u001b[39m\u001b[38;5;124m\"\u001b[39m] \u001b[38;5;241m=\u001b[39m \u001b[38;5;124m\"\u001b[39m\u001b[38;5;124mx\u001b[39m\u001b[38;5;124m\"\u001b[39m\n",
      "File \u001b[1;32mc:\\Users\\932197\\Documents\\dati_locali\\git-hub\\SAP\\websap.py:265\u001b[0m, in \u001b[0;36m__inserisci_vdt_sal\u001b[1;34m(self, index, row)\u001b[0m\n\u001b[0;32m    262\u001b[0m         \u001b[38;5;28mself\u001b[39m\u001b[38;5;241m.\u001b[39mclick(\u001b[38;5;124m'\u001b[39m\u001b[38;5;124m//span[text()=\u001b[39m\u001b[38;5;124m\"\u001b[39m\u001b[38;5;124mVisualizza\u001b[39m\u001b[38;5;124m\"\u001b[39m\u001b[38;5;124m]/../..\u001b[39m\u001b[38;5;124m'\u001b[39m)     \u001b[38;5;66;03m# visualizza\u001b[39;00m\n\u001b[0;32m    264\u001b[0m \u001b[38;5;66;03m# ============================================ SELEZIONE EDIZIONE TARIFFA =========================================\u001b[39;00m\n\u001b[1;32m--> 265\u001b[0m         \u001b[38;5;28;01mtry\u001b[39;00m:\n\u001b[0;32m    266\u001b[0m             time\u001b[38;5;241m.\u001b[39msleep(\u001b[38;5;241m1\u001b[39m)\n\u001b[0;32m    267\u001b[0m             versione_vdt \u001b[38;5;241m=\u001b[39m \u001b[38;5;28mself\u001b[39m\u001b[38;5;241m.\u001b[39mtrova_versione_vdt(vdt, ed_tariffa, nuova_voce)\n",
      "File \u001b[1;32mc:\\Users\\932197\\Documents\\dati_locali\\git-hub\\SAP\\websap.py:356\u001b[0m, in \u001b[0;36mtrova_versione_vdt\u001b[1;34m(self, vdt, ed_tariffa, nuova_voce)\u001b[0m\n\u001b[0;32m    354\u001b[0m     prezzo_da_trovare \u001b[38;5;241m=\u001b[39m \u001b[38;5;28mself\u001b[39m\u001b[38;5;241m.\u001b[39mdf_macep\u001b[38;5;241m.\u001b[39mquery(\u001b[38;5;124m\"\u001b[39m\u001b[38;5;124mCodice_Materiale == @vdt\u001b[39m\u001b[38;5;124m\"\u001b[39m)[ed_tariffa]\u001b[38;5;241m.\u001b[39miloc[\u001b[38;5;241m0\u001b[39m]\n\u001b[0;32m    355\u001b[0m \u001b[38;5;28;01melif\u001b[39;00m nuova_voce \u001b[38;5;241m==\u001b[39m \u001b[38;5;124m\"\u001b[39m\u001b[38;5;124mx\u001b[39m\u001b[38;5;124m\"\u001b[39m:\n\u001b[1;32m--> 356\u001b[0m     \u001b[38;5;28;01mreturn\u001b[39;00m \u001b[38;5;241m1\u001b[39m\n\u001b[0;32m    357\u001b[0m \u001b[38;5;28;01melse\u001b[39;00m:\n\u001b[0;32m    358\u001b[0m     prezzo_da_trovare \u001b[38;5;241m=\u001b[39m \u001b[38;5;28mself\u001b[39m\u001b[38;5;241m.\u001b[39mdf_tariffe\u001b[38;5;241m.\u001b[39mquery(\u001b[38;5;124m\"\u001b[39m\u001b[38;5;124mNumero_S_VdT == @vdt\u001b[39m\u001b[38;5;124m\"\u001b[39m)[ed_tariffa]\u001b[38;5;241m.\u001b[39miloc[\u001b[38;5;241m0\u001b[39m]\n",
      "File \u001b[1;32mc:\\Users\\932197\\Documents\\dati_locali\\git-hub\\SAP\\.venv\\Lib\\site-packages\\pandas\\core\\indexing.py:1153\u001b[0m, in \u001b[0;36m_LocationIndexer.__getitem__\u001b[1;34m(self, key)\u001b[0m\n\u001b[0;32m   1150\u001b[0m axis \u001b[38;5;241m=\u001b[39m \u001b[38;5;28mself\u001b[39m\u001b[38;5;241m.\u001b[39maxis \u001b[38;5;129;01mor\u001b[39;00m \u001b[38;5;241m0\u001b[39m\n\u001b[0;32m   1152\u001b[0m maybe_callable \u001b[38;5;241m=\u001b[39m com\u001b[38;5;241m.\u001b[39mapply_if_callable(key, \u001b[38;5;28mself\u001b[39m\u001b[38;5;241m.\u001b[39mobj)\n\u001b[1;32m-> 1153\u001b[0m \u001b[38;5;28;01mreturn\u001b[39;00m \u001b[38;5;28;43mself\u001b[39;49m\u001b[38;5;241;43m.\u001b[39;49m\u001b[43m_getitem_axis\u001b[49m\u001b[43m(\u001b[49m\u001b[43mmaybe_callable\u001b[49m\u001b[43m,\u001b[49m\u001b[43m \u001b[49m\u001b[43maxis\u001b[49m\u001b[38;5;241;43m=\u001b[39;49m\u001b[43maxis\u001b[49m\u001b[43m)\u001b[49m\n",
      "File \u001b[1;32mc:\\Users\\932197\\Documents\\dati_locali\\git-hub\\SAP\\.venv\\Lib\\site-packages\\pandas\\core\\indexing.py:1714\u001b[0m, in \u001b[0;36m_iLocIndexer._getitem_axis\u001b[1;34m(self, key, axis)\u001b[0m\n\u001b[0;32m   1711\u001b[0m     \u001b[38;5;28;01mraise\u001b[39;00m \u001b[38;5;167;01mTypeError\u001b[39;00m(\u001b[38;5;124m\"\u001b[39m\u001b[38;5;124mCannot index by location index with a non-integer key\u001b[39m\u001b[38;5;124m\"\u001b[39m)\n\u001b[0;32m   1713\u001b[0m \u001b[38;5;66;03m# validate the location\u001b[39;00m\n\u001b[1;32m-> 1714\u001b[0m \u001b[38;5;28;43mself\u001b[39;49m\u001b[38;5;241;43m.\u001b[39;49m\u001b[43m_validate_integer\u001b[49m\u001b[43m(\u001b[49m\u001b[43mkey\u001b[49m\u001b[43m,\u001b[49m\u001b[43m \u001b[49m\u001b[43maxis\u001b[49m\u001b[43m)\u001b[49m\n\u001b[0;32m   1716\u001b[0m \u001b[38;5;28;01mreturn\u001b[39;00m \u001b[38;5;28mself\u001b[39m\u001b[38;5;241m.\u001b[39mobj\u001b[38;5;241m.\u001b[39m_ixs(key, axis\u001b[38;5;241m=\u001b[39maxis)\n",
      "File \u001b[1;32mc:\\Users\\932197\\Documents\\dati_locali\\git-hub\\SAP\\.venv\\Lib\\site-packages\\pandas\\core\\indexing.py:1647\u001b[0m, in \u001b[0;36m_iLocIndexer._validate_integer\u001b[1;34m(self, key, axis)\u001b[0m\n\u001b[0;32m   1645\u001b[0m len_axis \u001b[38;5;241m=\u001b[39m \u001b[38;5;28mlen\u001b[39m(\u001b[38;5;28mself\u001b[39m\u001b[38;5;241m.\u001b[39mobj\u001b[38;5;241m.\u001b[39m_get_axis(axis))\n\u001b[0;32m   1646\u001b[0m \u001b[38;5;28;01mif\u001b[39;00m key \u001b[38;5;241m>\u001b[39m\u001b[38;5;241m=\u001b[39m len_axis \u001b[38;5;129;01mor\u001b[39;00m key \u001b[38;5;241m<\u001b[39m \u001b[38;5;241m-\u001b[39mlen_axis:\n\u001b[1;32m-> 1647\u001b[0m     \u001b[38;5;28;01mraise\u001b[39;00m \u001b[38;5;167;01mIndexError\u001b[39;00m(\u001b[38;5;124m\"\u001b[39m\u001b[38;5;124msingle positional indexer is out-of-bounds\u001b[39m\u001b[38;5;124m\"\u001b[39m)\n",
      "\u001b[1;31mIndexError\u001b[0m: single positional indexer is out-of-bounds"
     ]
    }
   ],
   "source": [
    "import websap\n",
    "\n",
    "sap = websap.WebSAP(\"932197\", \".Gioia6666\")\n",
    "\n",
    "sap.sal(oda=\"5031012302\", file_excel=\"SAL.xlsx\")\n",
    "#sap.perizia(network=\"100159079\", file_excel=\"Perizia.xlsx\", nome_foglio=\"VDT\")\n",
    "\n",
    "i = input(\"premere invio per terminare\")\n",
    "print(\"fine\")\n"
   ]
  },
  {
   "cell_type": "code",
   "execution_count": null,
   "id": "555011a6",
   "metadata": {},
   "outputs": [],
   "source": []
  }
 ],
 "metadata": {
  "kernelspec": {
   "display_name": "Python 3 (ipykernel)",
   "language": "python",
   "name": "python3"
  },
  "language_info": {
   "codemirror_mode": {
    "name": "ipython",
    "version": 3
   },
   "file_extension": ".py",
   "mimetype": "text/x-python",
   "name": "python",
   "nbconvert_exporter": "python",
   "pygments_lexer": "ipython3",
   "version": "3.11.7"
  },
  "vp": {
   "vp_config_version": "1.0.0",
   "vp_menu_width": 273,
   "vp_note_display": false,
   "vp_note_width": 0,
   "vp_position": {
    "width": 278
   },
   "vp_section_display": false,
   "vp_signature": "VisualPython"
  }
 },
 "nbformat": 4,
 "nbformat_minor": 5
}
