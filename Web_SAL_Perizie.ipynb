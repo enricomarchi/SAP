{
 "cells": [
  {
   "cell_type": "code",
   "execution_count": 1,
   "id": "2b391454",
   "metadata": {
    "scrolled": false
   },
   "outputs": [
    {
     "name": "stdout",
     "output_type": "stream",
     "text": [
      "Proc. click: xpath = //div[@title=\"SAL\"], Tentavivo n.1 di 240 ('5031013104-001', 14)\n",
      "VDT n.1 di 13, VDT = 814/2730, Q = 250.0, Descrizione = delta fornitura\n",
      "Proc. click: xpath = //textarea, Tentavivo n.1 di 240 ('5031013104-001', 18)\n",
      "VDT n.2 di 13, VDT = 814/2730, Q = 250.0, Descrizione = \n",
      "Proc. click: xpath = //span[contains(text(), \"Opera\")]/../../../following-sibling::td//input, Tentavivo n.1 di 240 ('5031013104-001', 28)\n",
      "VDT n.3 di 13, VDT = 814/0640, Q = 18.0, Descrizione = Collegamento alla pensilina\n",
      "Proc. click: xpath = //span[contains(text(), \"Opera\")]/../../../following-sibling::td//input, Tentavivo n.1 di 240 ('5031013104-001', 40)\n",
      "VDT n.4 di 13, VDT = 814/3100, Q = 12.0, Descrizione = cavo elettrico sostituito su UPS TLC per cavo trop\n",
      "Proc. click: xpath = //textarea, Tentavivo n.1 di 240 ('5031013104-001', 43)\n",
      "VDT n.5 di 13, VDT = 905/3550, Q = 6.0, Descrizione = Forniture richieste da RFI\n",
      "Proc. click: xpath = //textarea, Tentavivo n.1 di 240 ('5031013104-001', 44)\n",
      "VDT n.6 di 13, VDT = 908/2990, Q = 3.0, Descrizione = Forniture richieste da RFI\n",
      "Proc. click: xpath = //textarea, Tentavivo n.1 di 240 entavivo n.19 di 240 ('5031013104-001', 45)\n",
      "VDT n.7 di 13, VDT = 909/0600, Q = 1.0, Descrizione = Forniture richieste da RFI\n",
      "Proc. click: xpath = //span[contains(text(), \"Opera\")]/../../../following-sibling::td//input, Tentavivo n.1 di 240 ('5031013104-001', 70)\n",
      "VDT n.8 di 13, VDT = 912/8980, Q = 30.0, Descrizione = ghiere per raccordi inox\n",
      "La VDT 912/8980 edizione ed_2023 non è presente in web sal.\n",
      "('5031013104-001', 75)\n",
      "VDT n.9 di 13, VDT = 912/6080, Q = 4.0, Descrizione = sottopasso\n",
      "La VDT 912/6080 edizione ed_2023 non è presente in web sal.\n",
      "('5031013104-001', 76)\n",
      "VDT n.10 di 13, VDT = 912/8560, Q = 4.0, Descrizione = sottopasso\n",
      "La VDT 912/8560 edizione ed_2023 non è presente in web sal.\n",
      "('5031013104-001', 77)\n",
      "VDT n.11 di 13, VDT = 912/8550, Q = 27.0, Descrizione = \n",
      "La VDT 912/8550 edizione ed_2023 non è presente in web sal.\n",
      "Proc. click: xpath = //span[contains(text(), \"Opera\")]/../../../following-sibling::td//input, Tentavivo n.1 di 240 ('5031013104-001', 81)\n",
      "VDT n.12 di 13, VDT = 814/3100, Q = 14.0, Descrizione = Alimentazioni UPS\n",
      "Proc. click: xpath = //textarea, Tentavivo n.1 di 240 ('5031013104-001', 86)\n",
      "VDT n.13 di 13, VDT = 814/3070, Q = 5.0, Descrizione = Cavo Monitor isol\n",
      "Proc. click: xpath = //span[text()=\"Altra gestione\"]/../.., Tentavivo n.1 di 240 fine\n"
     ]
    }
   ],
   "source": [
    "import websap\n",
    "\n",
    "sap = websap.WebSAP(\"932197\", \".Gioia7777\")\n",
    "sap.logon()\n",
    "sap.sal(id_sal='5031013104-001', riepilogo_vdt=0)\n",
    "#sap.perizia(network=\"100159079\", file_excel=\"Perizia.xlsx\", nome_foglio=\"VDT\")\n",
    "\n",
    "print(\"fine\")\n"
   ]
  }
 ],
 "metadata": {
  "kernelspec": {
   "display_name": "Python 3 (ipykernel)",
   "language": "python",
   "name": "python3"
  },
  "language_info": {
   "codemirror_mode": {
    "name": "ipython",
    "version": 3
   },
   "file_extension": ".py",
   "mimetype": "text/x-python",
   "name": "python",
   "nbconvert_exporter": "python",
   "pygments_lexer": "ipython3",
   "version": "3.11.8"
  },
  "vp": {
   "vp_config_version": "1.0.0",
   "vp_menu_width": 273,
   "vp_note_display": false,
   "vp_note_width": 0,
   "vp_position": {
    "width": 278
   },
   "vp_section_display": false,
   "vp_signature": "VisualPython"
  }
 },
 "nbformat": 4,
 "nbformat_minor": 5
}
