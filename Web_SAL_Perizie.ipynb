{
 "cells": [
  {
   "cell_type": "code",
   "execution_count": 3,
   "id": "2b391454",
   "metadata": {
    "scrolled": false
   },
   "outputs": [
    {
     "name": "stdout",
     "output_type": "stream",
     "text": [
      "Lettura da DB tabella tariffe\n",
      "Lettura da DB tabella macep\n",
      "VDT n.1 di 103, VDT = 814/2710, Q = 40, Descrizione = \n",
      "VDT n.2 di 103, VDT = 814/6960, Q = 45, Descrizione = \n",
      "VDT n.3 di 103, VDT = EI.CV.P.2100.A, Q = 65, Descrizione = MATERIALE INSTALLAZIONE\n",
      "VDT n.4 di 103, VDT = EI.CV.P.5 12.A, Q = 40, Descrizione = MATERIALE INSTALLAZIONE\n",
      "VDT n.5 di 103, VDT = EI.IM.I.3 08.A, Q = 12, Descrizione = MATERIALE INSTALLAZIONE\n",
      "VDT n.6 di 103, VDT = EI.LV.F.6 01.A, Q = 1, Descrizione = MATERIALE INSTALLAZIONE\n",
      "VDT n.7 di 103, VDT = EI.QE.B.1 01.A, Q = 1, Descrizione = QE 48 VCC\n",
      "VDT n.8 di 103, VDT = EI.QE.B.2 06.A, Q = 1, Descrizione = QE 48 VCC\n",
      "VDT n.9 di 103, VDT = EI.QE.B.2 09.A, Q = 20, Descrizione = MATERIALE INSTALLAZIONE\n",
      "VDT n.10 di 103, VDT = EI.QE.B.2100.A, Q = 1, Descrizione = MODIFICHE QE GENERALE\n",
      "VDT n.11 di 103, VDT = TC.RR.F.1005.A, Q = 1, Descrizione = ELTEK\n",
      "VDT n.12 di 103, VDT = TC.RR.F.1006.A, Q = 2, Descrizione = ELTEK\n",
      "Message: no such element: Unable to locate element: {\"method\":\"xpath\",\"selector\":\"//td[3]//span[text()=\"TC.RR.F.1006.A\"]/../../../../../../../../../../../../td[2]//span[text()=\"Gestione Misurazioni\"]/../..\"}\n",
      "  (Session info: chrome=121.0.6167.185); For documentation on this error, please visit: https://www.selenium.dev/documentation/webdriver/troubleshooting/errors#no-such-element-exception\n",
      "Stacktrace:\n",
      "\tGetHandleVerifier [0x00007FF63F7E7012+3522402]\n",
      "\t(No symbol) [0x00007FF63F408352]\n",
      "\t(No symbol) [0x00007FF63F2B5ABB]\n",
      "\t(No symbol) [0x00007FF63F2FBF0E]\n",
      "\t(No symbol) [0x00007FF63F2FC08C]\n",
      "\t(No symbol) [0x00007FF63F33E437]\n",
      "\t(No symbol) [0x00007FF63F31F09F]\n",
      "\t(No symbol) [0x00007FF63F33BDA3]\n",
      "\t(No symbol) [0x00007FF63F31EE03]\n",
      "\t(No symbol) [0x00007FF63F2EF4D4]\n",
      "\t(No symbol) [0x00007FF63F2F05F1]\n",
      "\tGetHandleVerifier [0x00007FF63F819B9D+3730157]\n",
      "\tGetHandleVerifier [0x00007FF63F86F02D+4079485]\n",
      "\tGetHandleVerifier [0x00007FF63F8675D3+4048163]\n",
      "\tGetHandleVerifier [0x00007FF63F53A649+718233]\n",
      "\t(No symbol) [0x00007FF63F414A3F]\n",
      "\t(No symbol) [0x00007FF63F40FA94]\n",
      "\t(No symbol) [0x00007FF63F40FBC2]\n",
      "\t(No symbol) [0x00007FF63F3FF2E4]\n",
      "\tBaseThreadInitThunk [0x00007FFD6381257D+29]\n",
      "\tRtlUserThreadStart [0x00007FFD64E0AA58+40]\n",
      "\n"
     ]
    },
    {
     "ename": "NoSuchWindowException",
     "evalue": "Message: no such window: target window already closed\nfrom unknown error: web view not found\n  (Session info: chrome=121.0.6167.185)\nStacktrace:\n\tGetHandleVerifier [0x00007FF63F7E7012+3522402]\n\t(No symbol) [0x00007FF63F408352]\n\t(No symbol) [0x00007FF63F2B5ABB]\n\t(No symbol) [0x00007FF63F29287C]\n\t(No symbol) [0x00007FF63F325D97]\n\t(No symbol) [0x00007FF63F33B3CF]\n\t(No symbol) [0x00007FF63F31EE03]\n\t(No symbol) [0x00007FF63F2EF4D4]\n\t(No symbol) [0x00007FF63F2F05F1]\n\tGetHandleVerifier [0x00007FF63F819B9D+3730157]\n\tGetHandleVerifier [0x00007FF63F86F02D+4079485]\n\tGetHandleVerifier [0x00007FF63F8675D3+4048163]\n\tGetHandleVerifier [0x00007FF63F53A649+718233]\n\t(No symbol) [0x00007FF63F414A3F]\n\t(No symbol) [0x00007FF63F40FA94]\n\t(No symbol) [0x00007FF63F40FBC2]\n\t(No symbol) [0x00007FF63F3FF2E4]\n\tBaseThreadInitThunk [0x00007FFD6381257D+29]\n\tRtlUserThreadStart [0x00007FFD64E0AA58+40]\n",
     "output_type": "error",
     "traceback": [
      "\u001b[1;31m---------------------------------------------------------------------------\u001b[0m",
      "\u001b[1;31mNoSuchWindowException\u001b[0m                     Traceback (most recent call last)",
      "Cell \u001b[1;32mIn[3], line 5\u001b[0m\n\u001b[0;32m      1\u001b[0m \u001b[38;5;28;01mimport\u001b[39;00m \u001b[38;5;21;01mwebsap\u001b[39;00m\n\u001b[0;32m      3\u001b[0m sap \u001b[38;5;241m=\u001b[39m websap\u001b[38;5;241m.\u001b[39mWebSAP(\u001b[38;5;124m\"\u001b[39m\u001b[38;5;124m932197\u001b[39m\u001b[38;5;124m\"\u001b[39m, \u001b[38;5;124m\"\u001b[39m\u001b[38;5;124m.Gioia6666\u001b[39m\u001b[38;5;124m\"\u001b[39m)\n\u001b[1;32m----> 5\u001b[0m \u001b[43msap\u001b[49m\u001b[38;5;241;43m.\u001b[39;49m\u001b[43msal\u001b[49m\u001b[43m(\u001b[49m\u001b[43mfile_excel\u001b[49m\u001b[38;5;241;43m=\u001b[39;49m\u001b[38;5;124;43m\"\u001b[39;49m\u001b[38;5;124;43mSAL.xlsx\u001b[39;49m\u001b[38;5;124;43m\"\u001b[39;49m\u001b[43m)\u001b[49m\n\u001b[0;32m      6\u001b[0m \u001b[38;5;66;03m#sap.perizia(network=\"100159079\", file_excel=\"Perizia.xlsx\", nome_foglio=\"VDT\")\u001b[39;00m\n\u001b[0;32m      8\u001b[0m i \u001b[38;5;241m=\u001b[39m \u001b[38;5;28minput\u001b[39m(\u001b[38;5;124m\"\u001b[39m\u001b[38;5;124mpremere invio per terminare\u001b[39m\u001b[38;5;124m\"\u001b[39m)\n",
      "File \u001b[1;32mc:\\Users\\enrico\\Documents\\git-hub\\SAP\\websap.py:316\u001b[0m, in \u001b[0;36mWebSAP.sal\u001b[1;34m(self, file_excel)\u001b[0m\n\u001b[0;32m    314\u001b[0m \u001b[38;5;28;01mtry\u001b[39;00m:\n\u001b[0;32m    315\u001b[0m     \u001b[38;5;28mprint\u001b[39m(\u001b[38;5;124mf\u001b[39m\u001b[38;5;124m\"\u001b[39m\u001b[38;5;124mVDT n.\u001b[39m\u001b[38;5;132;01m{\u001b[39;00mi_vdt\u001b[38;5;132;01m}\u001b[39;00m\u001b[38;5;124m di \u001b[39m\u001b[38;5;132;01m{\u001b[39;00mtot_vdt\u001b[38;5;132;01m}\u001b[39;00m\u001b[38;5;124m, VDT = \u001b[39m\u001b[38;5;132;01m{\u001b[39;00mrow\u001b[38;5;241m.\u001b[39mVDT\u001b[38;5;132;01m}\u001b[39;00m\u001b[38;5;124m, Q = \u001b[39m\u001b[38;5;132;01m{\u001b[39;00mrow\u001b[38;5;241m.\u001b[39mQuantità\u001b[38;5;132;01m}\u001b[39;00m\u001b[38;5;124m, Descrizione = \u001b[39m\u001b[38;5;132;01m{\u001b[39;00mrow\u001b[38;5;241m.\u001b[39mDescrizione\u001b[38;5;132;01m}\u001b[39;00m\u001b[38;5;124m\"\u001b[39m)\n\u001b[1;32m--> 316\u001b[0m     \u001b[38;5;28;43mself\u001b[39;49m\u001b[38;5;241;43m.\u001b[39;49m\u001b[43m__inserisci_vdt_sal\u001b[49m\u001b[43m(\u001b[49m\u001b[43mindex\u001b[49m\u001b[43m,\u001b[49m\u001b[43m \u001b[49m\u001b[43mrow\u001b[49m\u001b[43m)\u001b[49m\n\u001b[0;32m    317\u001b[0m     time\u001b[38;5;241m.\u001b[39msleep(\u001b[38;5;241m1\u001b[39m)\n\u001b[0;32m    318\u001b[0m     df\u001b[38;5;241m.\u001b[39mat[index, \u001b[38;5;124m\"\u001b[39m\u001b[38;5;124mInserita\u001b[39m\u001b[38;5;124m\"\u001b[39m] \u001b[38;5;241m=\u001b[39m \u001b[38;5;124m\"\u001b[39m\u001b[38;5;124mx\u001b[39m\u001b[38;5;124m\"\u001b[39m\n",
      "File \u001b[1;32mc:\\Users\\enrico\\Documents\\git-hub\\SAP\\websap.py:401\u001b[0m, in \u001b[0;36m__inserisci_vdt_sal\u001b[1;34m(self, index, row)\u001b[0m\n\u001b[0;32m    399\u001b[0m \u001b[38;5;28;01melse\u001b[39;00m:  \u001b[38;5;66;03m# in caso contrario preme la prima della lista, che dovrebbe essere l'unica dell'elenco\u001b[39;00m\n\u001b[0;32m    400\u001b[0m     \u001b[38;5;28mself\u001b[39m\u001b[38;5;241m.\u001b[39mclick(\u001b[38;5;124mf\u001b[39m\u001b[38;5;124m'\u001b[39m\u001b[38;5;124m//span[text()=\u001b[39m\u001b[38;5;124m\"\u001b[39m\u001b[38;5;124mVisualizza\u001b[39m\u001b[38;5;124m\"\u001b[39m\u001b[38;5;124m]/../../../../../../../../../../../tr[2]//td//td//tr[2]//tr[@rr=\u001b[39m\u001b[38;5;124m\"\u001b[39m\u001b[38;5;124m1\u001b[39m\u001b[38;5;124m\"\u001b[39m\u001b[38;5;124m]/td\u001b[39m\u001b[38;5;124m'\u001b[39m)\n\u001b[1;32m--> 401\u001b[0m     elem \u001b[38;5;241m=\u001b[39m \u001b[38;5;28mself\u001b[39m\u001b[38;5;241m.\u001b[39melemento(\u001b[38;5;124mf\u001b[39m\u001b[38;5;124m'\u001b[39m\u001b[38;5;124m//span[text()=\u001b[39m\u001b[38;5;124m\"\u001b[39m\u001b[38;5;124mVisualizza\u001b[39m\u001b[38;5;124m\"\u001b[39m\u001b[38;5;124m]/../../../../../../../../../../../tr[2]//td//td//tr[2]//tr[@rr=\u001b[39m\u001b[38;5;124m\"\u001b[39m\u001b[38;5;124m1\u001b[39m\u001b[38;5;124m\"\u001b[39m\u001b[38;5;124m]/td[3]/span/span\u001b[39m\u001b[38;5;124m'\u001b[39m)\n\u001b[0;32m    402\u001b[0m \u001b[38;5;28;01mif\u001b[39;00m nuova_voce \u001b[38;5;241m!=\u001b[39m \u001b[38;5;124m\"\u001b[39m\u001b[38;5;124m\"\u001b[39m:\n\u001b[0;32m    403\u001b[0m     descrizione_vdt \u001b[38;5;241m=\u001b[39m elem\u001b[38;5;241m.\u001b[39mtext\n",
      "File \u001b[1;32mc:\\Users\\enrico\\Documents\\git-hub\\SAP\\websap.py:213\u001b[0m, in \u001b[0;36mWebSAP.click\u001b[1;34m(self, xpath)\u001b[0m\n\u001b[0;32m    204\u001b[0m \u001b[38;5;28;01mdef\u001b[39;00m \u001b[38;5;21mclick\u001b[39m(\n\u001b[0;32m    205\u001b[0m         \u001b[38;5;28mself\u001b[39m,\n\u001b[0;32m    206\u001b[0m         xpath: \u001b[38;5;28mstr\u001b[39m,\n\u001b[0;32m    207\u001b[0m ):\n\u001b[0;32m    208\u001b[0m \u001b[38;5;250m    \u001b[39m\u001b[38;5;124;03m\"\"\"\u001b[39;00m\n\u001b[0;32m    209\u001b[0m \u001b[38;5;124;03m    Simula un click del mouse sull'elemento puntato da xpath.\u001b[39;00m\n\u001b[0;32m    210\u001b[0m \u001b[38;5;124;03m    :param xpath: xpath dell'elemento da cliccare\u001b[39;00m\n\u001b[0;32m    211\u001b[0m \u001b[38;5;124;03m    :return: WebElement\u001b[39;00m\n\u001b[0;32m    212\u001b[0m \u001b[38;5;124;03m    \"\"\"\u001b[39;00m\n\u001b[1;32m--> 213\u001b[0m     elem \u001b[38;5;241m=\u001b[39m \u001b[38;5;28;43mself\u001b[39;49m\u001b[38;5;241;43m.\u001b[39;49m\u001b[43melemento\u001b[49m\u001b[43m(\u001b[49m\u001b[43mxpath\u001b[49m\u001b[43m)\u001b[49m\n\u001b[0;32m    214\u001b[0m     \u001b[38;5;28;01mtry\u001b[39;00m:\n\u001b[0;32m    215\u001b[0m         elem\u001b[38;5;241m.\u001b[39mclick()\n",
      "File \u001b[1;32mc:\\Users\\enrico\\Documents\\git-hub\\SAP\\websap.py:163\u001b[0m, in \u001b[0;36mWebSAP.elemento\u001b[1;34m(self, xpath)\u001b[0m\n\u001b[0;32m    161\u001b[0m \u001b[38;5;28;01mfor\u001b[39;00m i \u001b[38;5;129;01min\u001b[39;00m \u001b[38;5;28mrange\u001b[39m(\u001b[38;5;241m1\u001b[39m, \u001b[38;5;28mint\u001b[39m(\u001b[38;5;28mself\u001b[39m\u001b[38;5;241m.\u001b[39mtimeout)):\n\u001b[0;32m    162\u001b[0m     \u001b[38;5;28;01mtry\u001b[39;00m:\n\u001b[1;32m--> 163\u001b[0m         elem \u001b[38;5;241m=\u001b[39m \u001b[38;5;28;43mself\u001b[39;49m\u001b[38;5;241;43m.\u001b[39;49m\u001b[43mdriver\u001b[49m\u001b[38;5;241;43m.\u001b[39;49m\u001b[43mfind_element\u001b[49m\u001b[43m(\u001b[49m\u001b[43mBy\u001b[49m\u001b[38;5;241;43m.\u001b[39;49m\u001b[43mXPATH\u001b[49m\u001b[43m,\u001b[49m\u001b[43m \u001b[49m\u001b[43mxpath\u001b[49m\u001b[43m)\u001b[49m\n\u001b[0;32m    164\u001b[0m         time\u001b[38;5;241m.\u001b[39msleep(\u001b[38;5;241m1\u001b[39m)\n\u001b[0;32m    165\u001b[0m         \u001b[38;5;28;01mreturn\u001b[39;00m elem\n",
      "File \u001b[1;32mc:\\Users\\enrico\\Documents\\git-hub\\SAP\\.venv\\Lib\\site-packages\\selenium\\webdriver\\remote\\webdriver.py:738\u001b[0m, in \u001b[0;36mWebDriver.find_element\u001b[1;34m(self, by, value)\u001b[0m\n\u001b[0;32m    735\u001b[0m     by \u001b[38;5;241m=\u001b[39m By\u001b[38;5;241m.\u001b[39mCSS_SELECTOR\n\u001b[0;32m    736\u001b[0m     value \u001b[38;5;241m=\u001b[39m \u001b[38;5;124mf\u001b[39m\u001b[38;5;124m'\u001b[39m\u001b[38;5;124m[name=\u001b[39m\u001b[38;5;124m\"\u001b[39m\u001b[38;5;132;01m{\u001b[39;00mvalue\u001b[38;5;132;01m}\u001b[39;00m\u001b[38;5;124m\"\u001b[39m\u001b[38;5;124m]\u001b[39m\u001b[38;5;124m'\u001b[39m\n\u001b[1;32m--> 738\u001b[0m \u001b[38;5;28;01mreturn\u001b[39;00m \u001b[38;5;28;43mself\u001b[39;49m\u001b[38;5;241;43m.\u001b[39;49m\u001b[43mexecute\u001b[49m\u001b[43m(\u001b[49m\u001b[43mCommand\u001b[49m\u001b[38;5;241;43m.\u001b[39;49m\u001b[43mFIND_ELEMENT\u001b[49m\u001b[43m,\u001b[49m\u001b[43m \u001b[49m\u001b[43m{\u001b[49m\u001b[38;5;124;43m\"\u001b[39;49m\u001b[38;5;124;43musing\u001b[39;49m\u001b[38;5;124;43m\"\u001b[39;49m\u001b[43m:\u001b[49m\u001b[43m \u001b[49m\u001b[43mby\u001b[49m\u001b[43m,\u001b[49m\u001b[43m \u001b[49m\u001b[38;5;124;43m\"\u001b[39;49m\u001b[38;5;124;43mvalue\u001b[39;49m\u001b[38;5;124;43m\"\u001b[39;49m\u001b[43m:\u001b[49m\u001b[43m \u001b[49m\u001b[43mvalue\u001b[49m\u001b[43m}\u001b[49m\u001b[43m)\u001b[49m[\u001b[38;5;124m\"\u001b[39m\u001b[38;5;124mvalue\u001b[39m\u001b[38;5;124m\"\u001b[39m]\n",
      "File \u001b[1;32mc:\\Users\\enrico\\Documents\\git-hub\\SAP\\.venv\\Lib\\site-packages\\selenium\\webdriver\\remote\\webdriver.py:344\u001b[0m, in \u001b[0;36mWebDriver.execute\u001b[1;34m(self, driver_command, params)\u001b[0m\n\u001b[0;32m    342\u001b[0m response \u001b[38;5;241m=\u001b[39m \u001b[38;5;28mself\u001b[39m\u001b[38;5;241m.\u001b[39mcommand_executor\u001b[38;5;241m.\u001b[39mexecute(driver_command, params)\n\u001b[0;32m    343\u001b[0m \u001b[38;5;28;01mif\u001b[39;00m response:\n\u001b[1;32m--> 344\u001b[0m     \u001b[38;5;28;43mself\u001b[39;49m\u001b[38;5;241;43m.\u001b[39;49m\u001b[43merror_handler\u001b[49m\u001b[38;5;241;43m.\u001b[39;49m\u001b[43mcheck_response\u001b[49m\u001b[43m(\u001b[49m\u001b[43mresponse\u001b[49m\u001b[43m)\u001b[49m\n\u001b[0;32m    345\u001b[0m     response[\u001b[38;5;124m\"\u001b[39m\u001b[38;5;124mvalue\u001b[39m\u001b[38;5;124m\"\u001b[39m] \u001b[38;5;241m=\u001b[39m \u001b[38;5;28mself\u001b[39m\u001b[38;5;241m.\u001b[39m_unwrap_value(response\u001b[38;5;241m.\u001b[39mget(\u001b[38;5;124m\"\u001b[39m\u001b[38;5;124mvalue\u001b[39m\u001b[38;5;124m\"\u001b[39m, \u001b[38;5;28;01mNone\u001b[39;00m))\n\u001b[0;32m    346\u001b[0m     \u001b[38;5;28;01mreturn\u001b[39;00m response\n",
      "File \u001b[1;32mc:\\Users\\enrico\\Documents\\git-hub\\SAP\\.venv\\Lib\\site-packages\\selenium\\webdriver\\remote\\errorhandler.py:229\u001b[0m, in \u001b[0;36mErrorHandler.check_response\u001b[1;34m(self, response)\u001b[0m\n\u001b[0;32m    227\u001b[0m         alert_text \u001b[38;5;241m=\u001b[39m value[\u001b[38;5;124m\"\u001b[39m\u001b[38;5;124malert\u001b[39m\u001b[38;5;124m\"\u001b[39m]\u001b[38;5;241m.\u001b[39mget(\u001b[38;5;124m\"\u001b[39m\u001b[38;5;124mtext\u001b[39m\u001b[38;5;124m\"\u001b[39m)\n\u001b[0;32m    228\u001b[0m     \u001b[38;5;28;01mraise\u001b[39;00m exception_class(message, screen, stacktrace, alert_text)  \u001b[38;5;66;03m# type: ignore[call-arg]  # mypy is not smart enough here\u001b[39;00m\n\u001b[1;32m--> 229\u001b[0m \u001b[38;5;28;01mraise\u001b[39;00m exception_class(message, screen, stacktrace)\n",
      "\u001b[1;31mNoSuchWindowException\u001b[0m: Message: no such window: target window already closed\nfrom unknown error: web view not found\n  (Session info: chrome=121.0.6167.185)\nStacktrace:\n\tGetHandleVerifier [0x00007FF63F7E7012+3522402]\n\t(No symbol) [0x00007FF63F408352]\n\t(No symbol) [0x00007FF63F2B5ABB]\n\t(No symbol) [0x00007FF63F29287C]\n\t(No symbol) [0x00007FF63F325D97]\n\t(No symbol) [0x00007FF63F33B3CF]\n\t(No symbol) [0x00007FF63F31EE03]\n\t(No symbol) [0x00007FF63F2EF4D4]\n\t(No symbol) [0x00007FF63F2F05F1]\n\tGetHandleVerifier [0x00007FF63F819B9D+3730157]\n\tGetHandleVerifier [0x00007FF63F86F02D+4079485]\n\tGetHandleVerifier [0x00007FF63F8675D3+4048163]\n\tGetHandleVerifier [0x00007FF63F53A649+718233]\n\t(No symbol) [0x00007FF63F414A3F]\n\t(No symbol) [0x00007FF63F40FA94]\n\t(No symbol) [0x00007FF63F40FBC2]\n\t(No symbol) [0x00007FF63F3FF2E4]\n\tBaseThreadInitThunk [0x00007FFD6381257D+29]\n\tRtlUserThreadStart [0x00007FFD64E0AA58+40]\n"
     ]
    }
   ],
   "source": [
    "import websap\n",
    "\n",
    "sap = websap.WebSAP(\"932197\", \".Gioia6666\")\n",
    "\n",
    "sap.sal(file_excel=\"SAL.xlsx\")\n",
    "#sap.perizia(network=\"100159079\", file_excel=\"Perizia.xlsx\", nome_foglio=\"VDT\")\n",
    "\n",
    "i = input(\"premere invio per terminare\")\n",
    "print(\"fine\")\n"
   ]
  }
 ],
 "metadata": {
  "kernelspec": {
   "display_name": "Python 3 (ipykernel)",
   "language": "python",
   "name": "python3"
  },
  "language_info": {
   "codemirror_mode": {
    "name": "ipython",
    "version": 3
   },
   "file_extension": ".py",
   "mimetype": "text/x-python",
   "name": "python",
   "nbconvert_exporter": "python",
   "pygments_lexer": "ipython3",
   "version": "3.11.8"
  },
  "vp": {
   "vp_config_version": "1.0.0",
   "vp_menu_width": 273,
   "vp_note_display": false,
   "vp_note_width": 0,
   "vp_position": {
    "width": 278
   },
   "vp_section_display": false,
   "vp_signature": "VisualPython"
  }
 },
 "nbformat": 4,
 "nbformat_minor": 5
}
