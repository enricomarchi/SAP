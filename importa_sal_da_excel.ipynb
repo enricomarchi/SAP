{
 "cells": [
  {
   "cell_type": "code",
   "execution_count": 1,
   "id": "726990a2",
   "metadata": {},
   "outputs": [],
   "source": [
    "import pandas as pd\n",
    "import websap\n",
    "\n",
    "pd.set_option(\"display.max_columns\", None)\n",
    "\n",
    "file_excel = \"Hitachi IEC Veneto - ME-PD definitivo.xlsx\""
   ]
  },
  {
   "cell_type": "code",
   "execution_count": 2,
   "id": "a954fb2a",
   "metadata": {},
   "outputs": [],
   "source": [
    "websap.importa_sal_da_excel(file_excel, append=False)"
   ]
  }
 ],
 "metadata": {
  "kernelspec": {
   "display_name": "Python 3 (ipykernel)",
   "language": "python",
   "name": "python3"
  },
  "language_info": {
   "codemirror_mode": {
    "name": "ipython",
    "version": 3
   },
   "file_extension": ".py",
   "mimetype": "text/x-python",
   "name": "python",
   "nbconvert_exporter": "python",
   "pygments_lexer": "ipython3",
   "version": "3.11.9"
  }
 },
 "nbformat": 4,
 "nbformat_minor": 5
}
