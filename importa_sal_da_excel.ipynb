{
 "cells": [
  {
   "cell_type": "code",
   "execution_count": 2,
   "id": "726990a2",
   "metadata": {},
   "outputs": [],
   "source": [
    "import pandas as pd\n",
    "import websap\n",
    "\n",
    "pd.set_option(\"display.max_columns\", None)\n",
    "\n"
   ]
  },
  {
   "cell_type": "code",
   "execution_count": 3,
   "id": "a954fb2a",
   "metadata": {},
   "outputs": [
    {
     "name": "stdout",
     "output_type": "stream",
     "text": [
      "\n",
      "RIEPILOGO\n",
      "Riga 59 di 59\n",
      "fine\n"
     ]
    }
   ],
   "source": [
    "map1 = websap.mapping_sal(\n",
    "    nome_foglio=\"RIEPILOGO\",\n",
    "    riga_inizio=3,\n",
    "    riga_fine=59,\n",
    "    col_po='',\n",
    "    col_vdt='D',\n",
    "    col_descrizione_vdt='E',\n",
    "    col_um='F',\n",
    "    col_prezzo_unitario='G',\n",
    "    col_ribasso='H',\n",
    "    col_quantità='U',\n",
    "    col_descrizione_misura='W',\n",
    "    posizione='10',\n",
    "    parte_opera='5031013390-po001'\n",
    ")\n",
    "\n",
    "df = websap.importa_sal_da_excel('5031013390-002', map1, append=False)\n",
    "print('\\nfine')"
   ]
  }
 ],
 "metadata": {
  "kernelspec": {
   "display_name": "Python 3 (ipykernel)",
   "language": "python",
   "name": "python3"
  },
  "language_info": {
   "codemirror_mode": {
    "name": "ipython",
    "version": 3
   },
   "file_extension": ".py",
   "mimetype": "text/x-python",
   "name": "python",
   "nbconvert_exporter": "python",
   "pygments_lexer": "ipython3",
   "version": "3.11.9"
  }
 },
 "nbformat": 4,
 "nbformat_minor": 5
}
