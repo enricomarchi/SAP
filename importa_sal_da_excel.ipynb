{
 "cells": [
  {
   "cell_type": "code",
   "execution_count": 1,
   "id": "726990a2",
   "metadata": {},
   "outputs": [],
   "source": [
    "import pandas as pd\n",
    "import websap\n",
    "\n",
    "pd.set_option(\"display.max_columns\", None)\n",
    "\n"
   ]
  },
  {
   "cell_type": "code",
   "execution_count": 2,
   "id": "a954fb2a",
   "metadata": {},
   "outputs": [
    {
     "name": "stdout",
     "output_type": "stream",
     "text": [
      "\n",
      "vdt\n",
      "Riga 191 di 191\n",
      "fine\n"
     ]
    }
   ],
   "source": [
    "map1 = websap.mapping_sal(\n",
    "    nome_foglio=\"vdt\",\n",
    "    riga_inizio=2,\n",
    "    riga_fine=191,\n",
    "    col_po='',\n",
    "    col_vdt='B',\n",
    "    col_descrizione_vdt='F',\n",
    "    col_um='G',\n",
    "    col_prezzo_unitario='I',\n",
    "    col_ribasso='C',\n",
    "    col_quantità='H',\n",
    "    col_descrizione_misura='',\n",
    "    posizione='10',\n",
    "    parte_opera='unica'\n",
    ")\n",
    "\n",
    "df = websap.importa_sal_da_excel('temp-rfi', map1, append=False)\n",
    "print('\\nfine')"
   ]
  }
 ],
 "metadata": {
  "kernelspec": {
   "display_name": "Python 3 (ipykernel)",
   "language": "python",
   "name": "python3"
  },
  "language_info": {
   "codemirror_mode": {
    "name": "ipython",
    "version": 3
   },
   "file_extension": ".py",
   "mimetype": "text/x-python",
   "name": "python",
   "nbconvert_exporter": "python",
   "pygments_lexer": "ipython3",
   "version": "3.11.9"
  }
 },
 "nbformat": 4,
 "nbformat_minor": 5
}
