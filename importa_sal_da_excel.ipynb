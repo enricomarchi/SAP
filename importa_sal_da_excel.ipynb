{
 "cells": [
  {
   "cell_type": "code",
   "execution_count": 1,
   "id": "726990a2",
   "metadata": {},
   "outputs": [],
   "source": [
    "import pandas as pd\n",
    "import websap\n",
    "\n",
    "pd.set_option(\"display.max_columns\", None)\n",
    "\n",
    "file_excel = r\"C:\\Users\\enrico\\OneDrive - Gruppo Ferrovie Dello Stato\\Documenti\\LIC\\CA 08-2023 BITFOX rinnovo IaP Treviso 1^ fase\\08_Contabilità\\SAL 6\\Stato avanzamento lavori IAP Treviso_2024.03.xlsx\""
   ]
  },
  {
   "cell_type": "code",
   "execution_count": 2,
   "id": "a954fb2a",
   "metadata": {},
   "outputs": [
    {
     "name": "stdout",
     "output_type": "stream",
     "text": [
      "\n",
      "RIEPILOGO\n",
      "Riga 94 di 605"
     ]
    },
    {
     "name": "stderr",
     "output_type": "stream",
     "text": [
      "c:\\Users\\enrico\\Documents\\git-hub\\SAP\\websap.py:270: FutureWarning: The behavior of DataFrame concatenation with empty or all-NA entries is deprecated. In a future version, this will no longer exclude empty or all-NA columns when determining the result dtypes. To retain the old behavior, exclude the relevant entries before the concat operation.\n",
      "  df_sal.loc[len(df_sal)] = riga_df\n"
     ]
    },
    {
     "name": "stdout",
     "output_type": "stream",
     "text": [
      "Riga 605 di 605\n",
      "fine\n"
     ]
    }
   ],
   "source": [
    "map1 = websap.mapping_sal(\n",
    "    nome_foglio=\"RIEPILOGO\",\n",
    "    riga_inizio=3,\n",
    "    riga_fine=605,\n",
    "    col_po='A',\n",
    "    col_vdt='B',\n",
    "    col_descrizione_vdt='C',\n",
    "    col_um='D',\n",
    "    col_prezzo_unitario='E',\n",
    "    col_ribasso='F',\n",
    "    col_quantità='P',\n",
    "    col_descrizione_misura='T',\n",
    "    posizione='10',\n",
    "    parte_opera=''\n",
    ")\n",
    "\n",
    "df = websap.importa_sal_da_excel(file_excel, '5031012302-006', '2024-04-30', 'ed_2023', 'ed_2024', map1, append=False)\n",
    "print('\\nfine')"
   ]
  }
 ],
 "metadata": {
  "kernelspec": {
   "display_name": "Python 3 (ipykernel)",
   "language": "python",
   "name": "python3"
  },
  "language_info": {
   "codemirror_mode": {
    "name": "ipython",
    "version": 3
   },
   "file_extension": ".py",
   "mimetype": "text/x-python",
   "name": "python",
   "nbconvert_exporter": "python",
   "pygments_lexer": "ipython3",
   "version": "3.11.9"
  }
 },
 "nbformat": 4,
 "nbformat_minor": 5
}
