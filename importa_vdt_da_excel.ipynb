{
 "cells": [
  {
   "cell_type": "code",
   "execution_count": 1,
   "id": "726990a2",
   "metadata": {},
   "outputs": [],
   "source": [
    "import pandas as pd\n",
    "import websap\n",
    "\n",
    "pd.set_option(\"display.max_columns\", None)\n",
    "\n",
    "file_excel=r\"C:\\Users\\enrico\\Downloads\\EXPORT.XLSX\""
   ]
  },
  {
   "cell_type": "code",
   "execution_count": 2,
   "id": "a954fb2a",
   "metadata": {},
   "outputs": [
    {
     "name": "stdout",
     "output_type": "stream",
     "text": [
      "\n",
      "Sheet1\n",
      "Riga 377 di 377\n",
      "fine\n"
     ]
    }
   ],
   "source": [
    "map1 = websap.mapping_vdt(\n",
    "    nome_foglio=\"Sheet1\",\n",
    "    riga_inizio=2,\n",
    "    riga_fine=377,\n",
    "    col_s_vdt='A',\n",
    "    col_edizione_tariffa='B', \n",
    "    col_tariffa='C',\n",
    "    col_descrizione_estesa_per_voce='G',\n",
    "    col_descrizione='H',\n",
    "    col_titolo='I',\n",
    "    col_testo_esteso='J',\n",
    "    col_stato='K',\n",
    "    col_um='L',\n",
    "    col_applicazione='M',\n",
    "    col_prezzo_unitario='S',\n",
    "    col_non_codificata='U'\n",
    ")\n",
    "\n",
    "df = websap.importa_vdt_da_excel(file_excel, map1)\n",
    "print('\\nfine')"
   ]
  }
 ],
 "metadata": {
  "kernelspec": {
   "display_name": "Python 3 (ipykernel)",
   "language": "python",
   "name": "python3"
  },
  "language_info": {
   "codemirror_mode": {
    "name": "ipython",
    "version": 3
   },
   "file_extension": ".py",
   "mimetype": "text/x-python",
   "name": "python",
   "nbconvert_exporter": "python",
   "pygments_lexer": "ipython3",
   "version": "3.11.9"
  }
 },
 "nbformat": 4,
 "nbformat_minor": 5
}
