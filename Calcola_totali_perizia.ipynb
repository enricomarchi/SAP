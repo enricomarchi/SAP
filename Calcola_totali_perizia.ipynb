{
 "cells": [
  {
   "cell_type": "code",
   "execution_count": null,
   "id": "857510ad",
   "metadata": {},
   "outputs": [],
   "source": [
    "ribasso = 35.547 \n",
    "nome_file = \"Perizia.xlsx\""
   ]
  },
  {
   "cell_type": "code",
   "execution_count": 1,
   "id": "ac1473fa",
   "metadata": {},
   "outputs": [],
   "source": [
    "import pandas as pd\n",
    "import numpy as np\n",
    "df = pd.read_excel(nome_file)\n",
    "tariffe = pd.read_parquet(\"Tariffe.parquet\")\n",
    "df_tot = df.merge(tariffe[[\"Numero_S_VdT\", \"ed_2023\"]], left_on=\"VDT\", right_on=\"Numero_S_VdT\", how=\"left\").drop(\"Numero_S_VdT\", axis=1)\n",
    "df_tot[\"Pr_tot\"] = np.where(df_tot[\"TipoVDT\"] == \"ANAGRAFICA\", \n",
    "                            df_tot[\"Quantità\"] * df_tot[\"ed_2023\"], \n",
    "                            df_tot[\"Quantità\"] * df_tot[\"Prezzo\"])\n",
    "df_os = df_tot[df_tot['VDT'].str.startswith(\"OS\")]\n",
    "df_prog = df_tot[df_tot['VDT'].str.contains(\"DM 17.06.2016 n.50\", na=False)]"
   ]
  },
  {
   "cell_type": "code",
   "execution_count": 2,
   "id": "73e5285c",
   "metadata": {},
   "outputs": [],
   "source": [
    "importo_tot_prog = round(df_prog[\"Pr_tot\"].sum(), 2) \n",
    "importo_tot_os = round(df_os[\"Pr_tot\"].sum(), 2)\n",
    "importo_tot_lavori = df_tot[\"Pr_tot\"].sum() - importo_tot_prog - importo_tot_os\n",
    "importo_tot_lordo = importo_tot_prog + importo_tot_os + importo_tot_lavori\n",
    "importo_ribasso = round((importo_tot_lavori + importo_tot_prog) * (ribasso/100), 2)\n",
    "importo_netto_lavori_prog = importo_tot_lavori + importo_tot_prog - importo_ribasso\n",
    "importo_netto_tot = importo_netto_lavori_prog + importo_tot_os"
   ]
  },
  {
   "cell_type": "code",
   "execution_count": 5,
   "id": "db13b53a",
   "metadata": {},
   "outputs": [
    {
     "name": "stdout",
     "output_type": "stream",
     "text": [
      "Importo lordo lavori                      =      319.117,48\n",
      "Importo progettazione                     =       12.797,52\n",
      "Importo oneri sicurezza                   =        3.152,49\n",
      "\u001b[1m\u001b[46mImporto totale lordo                      =      335.067,49\u001b[0m\n",
      "Importo ribasso del 35,547 %              =      117.985,83\n",
      "Importo netto solo lavori e progettazione =      213.929,17\n",
      "\u001b[1m\u001b[43mImporto totale al netto del ribasso       =      217.081,66\u001b[0m\n",
      "\n"
     ]
    }
   ],
   "source": [
    "import locale\n",
    "locale.setlocale(locale.LC_ALL, 'it_IT.utf8')\n",
    "f_ribasso = locale.format_string(\"%.3f\", ribasso, grouping=True)\n",
    "f_importo_tot_lavori = locale.format_string(\"%.2f\", importo_tot_lavori, grouping=True)\n",
    "f_importo_tot_prog = locale.format_string(\"%.2f\", importo_tot_prog, grouping=True)\n",
    "f_importo_tot_os = locale.format_string(\"%.2f\", importo_tot_os, grouping=True)\n",
    "f_importo_tot_lordo = locale.format_string(\"%.2f\", importo_tot_lordo, grouping=True)\n",
    "f_importo_ribasso = locale.format_string(\"%.2f\", importo_ribasso, grouping=True)\n",
    "f_importo_netto_lavori_prog = locale.format_string(\"%.2f\", importo_netto_lavori_prog, grouping=True)\n",
    "f_importo_netto_tot = locale.format_string(\"%.2f\", importo_netto_tot, grouping=True)\n",
    "allineamento = 15\n",
    "print(f\"Importo lordo lavori                      = {f_importo_tot_lavori.rjust(allineamento)}\\n\"\n",
    "      f\"Importo progettazione                     = {f_importo_tot_prog.rjust(allineamento)}\\n\"\n",
    "      f\"Importo oneri sicurezza                   = {f_importo_tot_os.rjust(allineamento)}\\n\"\n",
    "      f\"\\033[1m\\033[46mImporto totale lordo                      = {f_importo_tot_lordo.rjust(allineamento)}\\033[0m\\n\"\n",
    "      f\"Importo ribasso del {f_ribasso} %              = {f_importo_ribasso.rjust(allineamento)}\\n\"\n",
    "      f\"Importo netto solo lavori e progettazione = {f_importo_netto_lavori_prog.rjust(allineamento)}\\n\"\n",
    "      f\"\\033[1m\\033[43mImporto totale al netto del ribasso       = {f_importo_netto_tot.rjust(allineamento)}\\033[0m\\n\"    \n",
    "     )"
   ]
  },
  {
   "cell_type": "code",
   "execution_count": null,
   "id": "c7d6a2d6",
   "metadata": {},
   "outputs": [],
   "source": []
  }
 ],
 "metadata": {
  "kernelspec": {
   "display_name": "Python 3 (ipykernel)",
   "language": "python",
   "name": "python3"
  },
  "language_info": {
   "codemirror_mode": {
    "name": "ipython",
    "version": 3
   },
   "file_extension": ".py",
   "mimetype": "text/x-python",
   "name": "python",
   "nbconvert_exporter": "python",
   "pygments_lexer": "ipython3",
   "version": "3.10.9"
  },
  "vp": {
   "vp_config_version": "1.0.0",
   "vp_menu_width": 273,
   "vp_note_display": false,
   "vp_note_width": 0,
   "vp_position": {
    "width": 278
   },
   "vp_section_display": false,
   "vp_signature": "VisualPython"
  }
 },
 "nbformat": 4,
 "nbformat_minor": 5
}
