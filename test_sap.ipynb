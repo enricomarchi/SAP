{
 "cells": [
  {
   "cell_type": "code",
   "execution_count": 1,
   "metadata": {},
   "outputs": [],
   "source": [
    "import time\n",
    "import os\n",
    "import win32com.client\n",
    "import pyautogui\n",
    "\n",
    "def apri_sap():\n",
    "    # Avvia SAP GUI\n",
    "    os.system(\"start saplogon.exe\")\n",
    "    time.sleep(5)  # Aspetta che SAP GUI si avvii\n",
    "    \n",
    "def connetti_sap():\n",
    "    # Connetti a SAP GUI tramite COM\n",
    "    sapguiapp = win32com.client.GetObject(\"SAPGUI\").GetScriptingEngine\n",
    "    connection = sapguiapp.Children(0)\n",
    "    session = connection.Children(0)\n",
    "    \n",
    "apri_sap()\n",
    "connetti_sap()"
   ]
  }
 ],
 "metadata": {
  "kernelspec": {
   "display_name": ".venv",
   "language": "python",
   "name": "python3"
  },
  "language_info": {
   "codemirror_mode": {
    "name": "ipython",
    "version": 3
   },
   "file_extension": ".py",
   "mimetype": "text/x-python",
   "name": "python",
   "nbconvert_exporter": "python",
   "pygments_lexer": "ipython3",
   "version": "3.11.8"
  }
 },
 "nbformat": 4,
 "nbformat_minor": 2
}
