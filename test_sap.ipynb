{
 "cells": [
  {
   "cell_type": "code",
   "execution_count": 2,
   "metadata": {},
   "outputs": [
    {
     "data": {
      "text/plain": [
       "'  /SAP_CODEPAGE=1100  /FULLMENU  /M/ine00.rfi.it/S/sapmsINE/G/PUBLIC /UPDOWNLOAD_CP=2'"
      ]
     },
     "execution_count": 2,
     "metadata": {},
     "output_type": "execute_result"
    }
   ],
   "source": [
    "import time\n",
    "import os\n",
    "import win32com.client\n",
    "\n",
    "class mySAP:\n",
    "    def __init__(self, utente=None, password=None):\n",
    "        self.apri_sap()\n",
    "        self.session = self.connetti_sap()\n",
    "        if utente:\n",
    "            self.logon(utente, password)\n",
    "        \n",
    "    def apri_sap(self):\n",
    "        # Avvia SAP GUI\n",
    "        os.system(\"start saplogon.exe\")\n",
    "        time.sleep(5)  # Aspetta che SAP GUI si avvii\n",
    "        \n",
    "    def connetti_sap(self):\n",
    "        # Connetti a SAP GUI tramite COM\n",
    "        sapguiapp = win32com.client.GetObject(\"SAPGUI\").GetScriptingEngine\n",
    "        if sapguiapp.Children.Count > 0:\n",
    "            connection = sapguiapp.Children(0)\n",
    "        else:\n",
    "            connection = sapguiapp.OpenConnection('INE [PUBLIC]')\n",
    "        session = connection.Children(0)\n",
    "        return session\n",
    "\n",
    "    def logon(self, utente, password):\n",
    "        self.session.findbyid('wnd[0]/usr/txtRSYST-BNAME').text = utente\n",
    "        self.session.findById(\"wnd[0]/usr/pwdRSYST-BCODE\").text = password\n",
    "        \n",
    "mysap = mySAP('932197', '.Gioia7777')\n",
    "mysap.session.StartTransaction('CN22')\n"
   ]
  }
 ],
 "metadata": {
  "kernelspec": {
   "display_name": ".venv",
   "language": "python",
   "name": "python3"
  },
  "language_info": {
   "codemirror_mode": {
    "name": "ipython",
    "version": 3
   },
   "file_extension": ".py",
   "mimetype": "text/x-python",
   "name": "python",
   "nbconvert_exporter": "python",
   "pygments_lexer": "ipython3",
   "version": "3.11.8"
  }
 },
 "nbformat": 4,
 "nbformat_minor": 2
}
