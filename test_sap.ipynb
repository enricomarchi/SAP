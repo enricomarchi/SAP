{
 "cells": [
  {
   "cell_type": "code",
   "execution_count": 1,
   "metadata": {},
   "outputs": [],
   "source": [
    "import time\n",
    "import os\n",
    "import win32com.client\n",
    "import pymysql\n",
    "import pandas as pd\n",
    "\n",
    "class mySAP:\n",
    "    def __init__(self, utente=None, password=None):\n",
    "        self.apri_sap()\n",
    "        self.session = self.connetti_sap()\n",
    "        if utente:\n",
    "            self.logon(utente, password)\n",
    "            \n",
    "        self.hostname = '37.156.244.12'\n",
    "        self.username = 'emarchi1_admin'\n",
    "        self.password = 'NGi&BcJt8!MB6MT4'\n",
    "        self.database_name = 'emarchi1_lavoro'\n",
    "        self.conn = pymysql.connect(host=self.hostname, user=self.username, password=self.password, db=self.database_name)\n",
    "        \n",
    "    def read_query(self, sql, args):\n",
    "        try:\n",
    "            with self.conn.cursor() as cursor:\n",
    "                cursor.execute(sql, args)\n",
    "                result = cursor.fetchall()\n",
    "                columns = [col[0] for col in cursor.description]\n",
    "                df = pd.DataFrame(result, columns=columns)            \n",
    "                return df\n",
    "        finally:\n",
    "            self.conn.close()    \n",
    "        \n",
    "    def apri_sap(self):\n",
    "        # Avvia SAP GUI\n",
    "        os.system(\"start saplogon.exe\")\n",
    "        time.sleep(5)  # Aspetta che SAP GUI si avvii\n",
    "        \n",
    "    def connetti_sap(self):\n",
    "        # Connetti a SAP GUI tramite COM\n",
    "        sapguiapp = win32com.client.GetObject(\"SAPGUI\").GetScriptingEngine\n",
    "        if sapguiapp.Children.Count > 0:\n",
    "            connection = sapguiapp.Children(0)\n",
    "        else:\n",
    "            connection = sapguiapp.OpenConnection('INE [PUBLIC]')\n",
    "        session = connection.Children(0)\n",
    "        return session\n",
    "\n",
    "    def logon(self, utente, password):\n",
    "        self.session.findbyid('wnd[0]/usr/txtRSYST-BNAME').text = utente\n",
    "        self.session.findById(\"wnd[0]/usr/pwdRSYST-BCODE\").text = password\n",
    "        self.session.findById(\"wnd[0]\").sendVKey(0)\n",
    "        self.session.findById(\"wnd[0]\").sendVKey(0)\n",
    "        self.session.findById(\"wnd[0]\").sendVKey(0)\n",
    "        \n",
    "mysap = mySAP('932197', '.Gioia8888')\n",
    "mysap.session.StartTransaction('CN22')\n"
   ]
  }
 ],
 "metadata": {
  "kernelspec": {
   "display_name": ".venv",
   "language": "python",
   "name": "python3"
  },
  "language_info": {
   "codemirror_mode": {
    "name": "ipython",
    "version": 3
   },
   "file_extension": ".py",
   "mimetype": "text/x-python",
   "name": "python",
   "nbconvert_exporter": "python",
   "pygments_lexer": "ipython3",
   "version": "3.12.3"
  }
 },
 "nbformat": 4,
 "nbformat_minor": 2
}
