{
 "cells": [
  {
   "cell_type": "code",
   "execution_count": 2,
   "metadata": {},
   "outputs": [
    {
     "name": "stdout",
     "output_type": "stream",
     "text": [
      "DLL load failed while importing _cyrfc: Impossibile trovare il modulo specificato.\n"
     ]
    },
    {
     "ename": "ImportError",
     "evalue": "cannot import name 'auto' from 'sapgui' (c:\\Users\\932197\\Documents\\dati_locali\\git-hub\\SAP\\.venv\\Lib\\site-packages\\sapgui\\__init__.py)",
     "output_type": "error",
     "traceback": [
      "\u001b[1;31m---------------------------------------------------------------------------\u001b[0m",
      "\u001b[1;31mImportError\u001b[0m                               Traceback (most recent call last)",
      "Cell \u001b[1;32mIn[2], line 1\u001b[0m\n\u001b[1;32m----> 1\u001b[0m \u001b[38;5;28;01mimport\u001b[39;00m \u001b[38;5;21;01mwebsap\u001b[39;00m\n\u001b[0;32m      3\u001b[0m websap\u001b[38;5;241m.\u001b[39mtest_sap()\n",
      "File \u001b[1;32mc:\\Users\\932197\\Documents\\dati_locali\\git-hub\\SAP\\websap.py:15\u001b[0m\n\u001b[0;32m     13\u001b[0m \u001b[38;5;28;01mimport\u001b[39;00m \u001b[38;5;21;01mpymysql\u001b[39;00m\n\u001b[0;32m     14\u001b[0m \u001b[38;5;28;01mimport\u001b[39;00m \u001b[38;5;21;01mpyrfc\u001b[39;00m\n\u001b[1;32m---> 15\u001b[0m \u001b[38;5;28;01mfrom\u001b[39;00m \u001b[38;5;21;01msapgui\u001b[39;00m \u001b[38;5;28;01mimport\u001b[39;00m auto\n\u001b[0;32m     17\u001b[0m TIMEOUT \u001b[38;5;241m=\u001b[39m \u001b[38;5;241m240\u001b[39m \n\u001b[0;32m     18\u001b[0m hostname \u001b[38;5;241m=\u001b[39m \u001b[38;5;124m'\u001b[39m\u001b[38;5;124mlocalhost\u001b[39m\u001b[38;5;124m'\u001b[39m\n",
      "\u001b[1;31mImportError\u001b[0m: cannot import name 'auto' from 'sapgui' (c:\\Users\\932197\\Documents\\dati_locali\\git-hub\\SAP\\.venv\\Lib\\site-packages\\sapgui\\__init__.py)"
     ]
    }
   ],
   "source": [
    "import websap\n",
    "\n",
    "websap.test_sap()"
   ]
  }
 ],
 "metadata": {
  "kernelspec": {
   "display_name": ".venv",
   "language": "python",
   "name": "python3"
  },
  "language_info": {
   "codemirror_mode": {
    "name": "ipython",
    "version": 3
   },
   "file_extension": ".py",
   "mimetype": "text/x-python",
   "name": "python",
   "nbconvert_exporter": "python",
   "pygments_lexer": "ipython3",
   "version": "3.11.8"
  }
 },
 "nbformat": 4,
 "nbformat_minor": 2
}
